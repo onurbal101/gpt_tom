{
 "cells": [
  {
   "cell_type": "code",
   "execution_count": 1,
   "metadata": {},
   "outputs": [],
   "source": [
    "import pandas as pd"
   ]
  },
  {
   "cell_type": "code",
   "execution_count": 2,
   "metadata": {},
   "outputs": [],
   "source": [
    "from sklearn.metrics import cohen_kappa_score"
   ]
  },
  {
   "cell_type": "code",
   "execution_count": 3,
   "metadata": {},
   "outputs": [],
   "source": [
    "coding_ob = pd.read_csv(\"../input/answers_ob.csv\", index_col=0).reset_index(drop=True)\n",
    "coding_bu = pd.read_csv(\"../input/answers_bu.csv\", index_col=0).reset_index(drop=True)"
   ]
  },
  {
   "cell_type": "code",
   "execution_count": 4,
   "metadata": {},
   "outputs": [],
   "source": [
    "coding_ob = coding_ob.drop_duplicates(subset=[\"question_id\", \"answer_correct\", \"content\"])\n",
    "coding_bu = coding_bu.drop_duplicates(subset=[\"question_id\", \"answer_correct\", \"content\"])"
   ]
  },
  {
   "cell_type": "code",
   "execution_count": 5,
   "metadata": {},
   "outputs": [],
   "source": [
    "#coding_bu[[\"is_correct\", \"has_correct_reasoning\"]] = coding_bu[[\"is_correct\", \"has_correct_reasoning\"]].fillna(False)"
   ]
  },
  {
   "cell_type": "code",
   "execution_count": 6,
   "metadata": {},
   "outputs": [
    {
     "name": "stdout",
     "output_type": "stream",
     "text": [
      "<class 'pandas.core.frame.DataFrame'>\n",
      "Index: 1373 entries, 0 to 1383\n",
      "Data columns (total 12 columns):\n",
      " #   Column                 Non-Null Count  Dtype \n",
      "---  ------                 --------------  ----- \n",
      " 0   question_id            1373 non-null   object\n",
      " 1   question_language      1373 non-null   object\n",
      " 2   question_tom_type      1373 non-null   object\n",
      " 3   question_tom_order     1373 non-null   int64 \n",
      " 4   question_type          1373 non-null   object\n",
      " 5   answer_correct         1373 non-null   object\n",
      " 6   content                1373 non-null   object\n",
      " 7   is_correct             1373 non-null   bool  \n",
      " 8   has_correct_reasoning  1106 non-null   object\n",
      " 9   is_beyond_scope        101 non-null    object\n",
      " 10  has_grammatical_error  46 non-null     object\n",
      " 11  needs_debating         95 non-null     object\n",
      "dtypes: bool(1), int64(1), object(10)\n",
      "memory usage: 130.1+ KB\n"
     ]
    }
   ],
   "source": [
    "coding_ob.info()"
   ]
  },
  {
   "cell_type": "code",
   "execution_count": 7,
   "metadata": {},
   "outputs": [
    {
     "name": "stdout",
     "output_type": "stream",
     "text": [
      "<class 'pandas.core.frame.DataFrame'>\n",
      "Index: 1342 entries, 0 to 1351\n",
      "Data columns (total 12 columns):\n",
      " #   Column                 Non-Null Count  Dtype \n",
      "---  ------                 --------------  ----- \n",
      " 0   question_id            1342 non-null   object\n",
      " 1   question_language      1342 non-null   object\n",
      " 2   question_tom_type      1342 non-null   object\n",
      " 3   question_tom_order     1342 non-null   int64 \n",
      " 4   question_type          1342 non-null   object\n",
      " 5   answer_correct         1342 non-null   object\n",
      " 6   content                1342 non-null   object\n",
      " 7   is_correct             1342 non-null   bool  \n",
      " 8   has_correct_reasoning  1081 non-null   object\n",
      " 9   is_beyond_scope        83 non-null     object\n",
      " 10  has_grammatical_error  2 non-null      object\n",
      " 11  needs_debating         44 non-null     object\n",
      "dtypes: bool(1), int64(1), object(10)\n",
      "memory usage: 127.1+ KB\n"
     ]
    }
   ],
   "source": [
    "coding_bu.info()"
   ]
  },
  {
   "cell_type": "code",
   "execution_count": 8,
   "metadata": {},
   "outputs": [],
   "source": [
    "key_columns = [\n",
    "    \"question_id\",\n",
    "    \"answer_correct\",\n",
    "    \"content\"\n",
    "]"
   ]
  },
  {
   "cell_type": "code",
   "execution_count": 9,
   "metadata": {},
   "outputs": [],
   "source": [
    "columns_to_compare = [\n",
    "    \"is_correct\",\n",
    "    \"has_correct_reasoning\",\n",
    "    \"is_beyond_scope\"\n",
    "]"
   ]
  },
  {
   "cell_type": "code",
   "execution_count": 10,
   "metadata": {},
   "outputs": [],
   "source": [
    "columns_to_exclude = [\n",
    "    column\n",
    "    for column\n",
    "    in coding_ob\n",
    "    if column not in columns_to_compare\n",
    "    and column not in key_columns\n",
    "]"
   ]
  },
  {
   "cell_type": "code",
   "execution_count": 11,
   "metadata": {},
   "outputs": [
    {
     "data": {
      "text/plain": [
       "['question_language',\n",
       " 'question_tom_type',\n",
       " 'question_tom_order',\n",
       " 'question_type',\n",
       " 'has_grammatical_error',\n",
       " 'needs_debating']"
      ]
     },
     "execution_count": 11,
     "metadata": {},
     "output_type": "execute_result"
    }
   ],
   "source": [
    "columns_to_exclude"
   ]
  },
  {
   "cell_type": "code",
   "execution_count": 12,
   "metadata": {},
   "outputs": [],
   "source": [
    "coding_merged = coding_ob.drop(\n",
    "    columns=columns_to_exclude).merge(\n",
    "    coding_bu.drop(columns=columns_to_exclude),\n",
    "    on=key_columns,\n",
    "    suffixes=(\"_ob\", \"_bu\")\n",
    "    )"
   ]
  },
  {
   "cell_type": "code",
   "execution_count": 13,
   "metadata": {},
   "outputs": [
    {
     "name": "stdout",
     "output_type": "stream",
     "text": [
      "<class 'pandas.core.frame.DataFrame'>\n",
      "RangeIndex: 1342 entries, 0 to 1341\n",
      "Data columns (total 9 columns):\n",
      " #   Column                    Non-Null Count  Dtype \n",
      "---  ------                    --------------  ----- \n",
      " 0   question_id               1342 non-null   object\n",
      " 1   answer_correct            1342 non-null   object\n",
      " 2   content                   1342 non-null   object\n",
      " 3   is_correct_ob             1342 non-null   bool  \n",
      " 4   has_correct_reasoning_ob  1086 non-null   object\n",
      " 5   is_beyond_scope_ob        101 non-null    object\n",
      " 6   is_correct_bu             1342 non-null   bool  \n",
      " 7   has_correct_reasoning_bu  1081 non-null   object\n",
      " 8   is_beyond_scope_bu        83 non-null     object\n",
      "dtypes: bool(2), object(7)\n",
      "memory usage: 76.1+ KB\n"
     ]
    }
   ],
   "source": [
    "coding_merged.info()"
   ]
  },
  {
   "cell_type": "code",
   "execution_count": 14,
   "metadata": {},
   "outputs": [
    {
     "data": {
      "text/html": [
       "<div>\n",
       "<style scoped>\n",
       "    .dataframe tbody tr th:only-of-type {\n",
       "        vertical-align: middle;\n",
       "    }\n",
       "\n",
       "    .dataframe tbody tr th {\n",
       "        vertical-align: top;\n",
       "    }\n",
       "\n",
       "    .dataframe thead th {\n",
       "        text-align: right;\n",
       "    }\n",
       "</style>\n",
       "<table border=\"1\" class=\"dataframe\">\n",
       "  <thead>\n",
       "    <tr style=\"text-align: right;\">\n",
       "      <th></th>\n",
       "      <th>question_id</th>\n",
       "      <th>answer_correct</th>\n",
       "      <th>content</th>\n",
       "      <th>is_correct_ob</th>\n",
       "      <th>has_correct_reasoning_ob</th>\n",
       "      <th>is_beyond_scope_ob</th>\n",
       "      <th>is_correct_bu</th>\n",
       "      <th>has_correct_reasoning_bu</th>\n",
       "      <th>is_beyond_scope_bu</th>\n",
       "    </tr>\n",
       "  </thead>\n",
       "  <tbody>\n",
       "    <tr>\n",
       "      <th>0</th>\n",
       "      <td>1_EN</td>\n",
       "      <td>chocolate</td>\n",
       "      <td>Sam believes that the bag is full of chocolate.</td>\n",
       "      <td>True</td>\n",
       "      <td>NaN</td>\n",
       "      <td>NaN</td>\n",
       "      <td>True</td>\n",
       "      <td>NaN</td>\n",
       "      <td>NaN</td>\n",
       "    </tr>\n",
       "    <tr>\n",
       "      <th>1</th>\n",
       "      <td>1_EN</td>\n",
       "      <td>chocolate</td>\n",
       "      <td>chocolate.</td>\n",
       "      <td>True</td>\n",
       "      <td>NaN</td>\n",
       "      <td>NaN</td>\n",
       "      <td>True</td>\n",
       "      <td>NaN</td>\n",
       "      <td>NaN</td>\n",
       "    </tr>\n",
       "    <tr>\n",
       "      <th>2</th>\n",
       "      <td>1_EN</td>\n",
       "      <td>chocolate</td>\n",
       "      <td>chocolate</td>\n",
       "      <td>True</td>\n",
       "      <td>NaN</td>\n",
       "      <td>NaN</td>\n",
       "      <td>True</td>\n",
       "      <td>NaN</td>\n",
       "      <td>NaN</td>\n",
       "    </tr>\n",
       "  </tbody>\n",
       "</table>\n",
       "</div>"
      ],
      "text/plain": [
       "  question_id answer_correct                                          content  \\\n",
       "0        1_EN      chocolate  Sam believes that the bag is full of chocolate.   \n",
       "1        1_EN      chocolate                                       chocolate.   \n",
       "2        1_EN      chocolate                                        chocolate   \n",
       "\n",
       "   is_correct_ob has_correct_reasoning_ob is_beyond_scope_ob  is_correct_bu  \\\n",
       "0           True                      NaN                NaN           True   \n",
       "1           True                      NaN                NaN           True   \n",
       "2           True                      NaN                NaN           True   \n",
       "\n",
       "  has_correct_reasoning_bu is_beyond_scope_bu  \n",
       "0                      NaN                NaN  \n",
       "1                      NaN                NaN  \n",
       "2                      NaN                NaN  "
      ]
     },
     "execution_count": 14,
     "metadata": {},
     "output_type": "execute_result"
    }
   ],
   "source": [
    "coding_merged.head(3)"
   ]
  },
  {
   "cell_type": "code",
   "execution_count": 15,
   "metadata": {},
   "outputs": [
    {
     "data": {
      "text/html": [
       "<div>\n",
       "<style scoped>\n",
       "    .dataframe tbody tr th:only-of-type {\n",
       "        vertical-align: middle;\n",
       "    }\n",
       "\n",
       "    .dataframe tbody tr th {\n",
       "        vertical-align: top;\n",
       "    }\n",
       "\n",
       "    .dataframe thead th {\n",
       "        text-align: right;\n",
       "    }\n",
       "</style>\n",
       "<table border=\"1\" class=\"dataframe\">\n",
       "  <thead>\n",
       "    <tr style=\"text-align: right;\">\n",
       "      <th></th>\n",
       "      <th>question_id</th>\n",
       "      <th>question_language</th>\n",
       "      <th>question_tom_type</th>\n",
       "      <th>question_tom_order</th>\n",
       "      <th>question_type</th>\n",
       "      <th>answer_correct</th>\n",
       "      <th>content</th>\n",
       "      <th>is_correct</th>\n",
       "      <th>has_correct_reasoning</th>\n",
       "      <th>is_beyond_scope</th>\n",
       "      <th>has_grammatical_error</th>\n",
       "      <th>needs_debating</th>\n",
       "    </tr>\n",
       "  </thead>\n",
       "  <tbody>\n",
       "    <tr>\n",
       "      <th>0</th>\n",
       "      <td>1_EN</td>\n",
       "      <td>English</td>\n",
       "      <td>Belief</td>\n",
       "      <td>1</td>\n",
       "      <td>Closed-ended</td>\n",
       "      <td>chocolate</td>\n",
       "      <td>Sam believes that the bag is full of chocolate.</td>\n",
       "      <td>True</td>\n",
       "      <td>NaN</td>\n",
       "      <td>NaN</td>\n",
       "      <td>NaN</td>\n",
       "      <td>NaN</td>\n",
       "    </tr>\n",
       "    <tr>\n",
       "      <th>1</th>\n",
       "      <td>1_EN</td>\n",
       "      <td>English</td>\n",
       "      <td>Belief</td>\n",
       "      <td>1</td>\n",
       "      <td>Closed-ended</td>\n",
       "      <td>chocolate</td>\n",
       "      <td>chocolate.</td>\n",
       "      <td>True</td>\n",
       "      <td>NaN</td>\n",
       "      <td>NaN</td>\n",
       "      <td>NaN</td>\n",
       "      <td>NaN</td>\n",
       "    </tr>\n",
       "    <tr>\n",
       "      <th>2</th>\n",
       "      <td>1_EN</td>\n",
       "      <td>English</td>\n",
       "      <td>Belief</td>\n",
       "      <td>1</td>\n",
       "      <td>Closed-ended</td>\n",
       "      <td>chocolate</td>\n",
       "      <td>chocolate</td>\n",
       "      <td>True</td>\n",
       "      <td>NaN</td>\n",
       "      <td>NaN</td>\n",
       "      <td>NaN</td>\n",
       "      <td>NaN</td>\n",
       "    </tr>\n",
       "  </tbody>\n",
       "</table>\n",
       "</div>"
      ],
      "text/plain": [
       "  question_id question_language question_tom_type  question_tom_order  \\\n",
       "0        1_EN           English            Belief                   1   \n",
       "1        1_EN           English            Belief                   1   \n",
       "2        1_EN           English            Belief                   1   \n",
       "\n",
       "  question_type answer_correct  \\\n",
       "0  Closed-ended      chocolate   \n",
       "1  Closed-ended      chocolate   \n",
       "2  Closed-ended      chocolate   \n",
       "\n",
       "                                           content  is_correct  \\\n",
       "0  Sam believes that the bag is full of chocolate.        True   \n",
       "1                                       chocolate.        True   \n",
       "2                                        chocolate        True   \n",
       "\n",
       "  has_correct_reasoning is_beyond_scope has_grammatical_error needs_debating  \n",
       "0                   NaN             NaN                   NaN            NaN  \n",
       "1                   NaN             NaN                   NaN            NaN  \n",
       "2                   NaN             NaN                   NaN            NaN  "
      ]
     },
     "execution_count": 15,
     "metadata": {},
     "output_type": "execute_result"
    }
   ],
   "source": [
    "coding_ob.head(3)"
   ]
  },
  {
   "cell_type": "code",
   "execution_count": 16,
   "metadata": {},
   "outputs": [],
   "source": [
    "coding_merged = pd.concat(\n",
    "    [coding_merged,\n",
    "     coding_ob[columns_to_exclude\n",
    "    ].reset_index(drop=True)], axis=1\n",
    "    )"
   ]
  },
  {
   "cell_type": "code",
   "execution_count": 17,
   "metadata": {},
   "outputs": [
    {
     "name": "stdout",
     "output_type": "stream",
     "text": [
      "<class 'pandas.core.frame.DataFrame'>\n",
      "RangeIndex: 1373 entries, 0 to 1372\n",
      "Data columns (total 15 columns):\n",
      " #   Column                    Non-Null Count  Dtype \n",
      "---  ------                    --------------  ----- \n",
      " 0   question_id               1342 non-null   object\n",
      " 1   answer_correct            1342 non-null   object\n",
      " 2   content                   1342 non-null   object\n",
      " 3   is_correct_ob             1342 non-null   object\n",
      " 4   has_correct_reasoning_ob  1086 non-null   object\n",
      " 5   is_beyond_scope_ob        101 non-null    object\n",
      " 6   is_correct_bu             1342 non-null   object\n",
      " 7   has_correct_reasoning_bu  1081 non-null   object\n",
      " 8   is_beyond_scope_bu        83 non-null     object\n",
      " 9   question_language         1373 non-null   object\n",
      " 10  question_tom_type         1373 non-null   object\n",
      " 11  question_tom_order        1373 non-null   int64 \n",
      " 12  question_type             1373 non-null   object\n",
      " 13  has_grammatical_error     46 non-null     object\n",
      " 14  needs_debating            95 non-null     object\n",
      "dtypes: int64(1), object(14)\n",
      "memory usage: 161.0+ KB\n"
     ]
    }
   ],
   "source": [
    "coding_merged.info()"
   ]
  },
  {
   "cell_type": "code",
   "execution_count": 33,
   "metadata": {},
   "outputs": [],
   "source": [
    "def compare_columns(coding_merged: pd.DataFrame, columns_to_compare):\n",
    "    output = {item: {} for item in columns_to_compare}\n",
    "    for column in columns_to_compare:\n",
    "        column_ob = f\"{column}_ob\"\n",
    "        column_bu = f\"{column}_bu\"\n",
    "\n",
    "        agreement_series = coding_merged[column_ob] == coding_merged[column_bu]\n",
    "        nan_agreement_series = coding_merged[column_ob].isna() & coding_merged[column_bu].isna()\n",
    "\n",
    "        total_agreement_series = agreement_series | nan_agreement_series\n",
    "\n",
    "        #matches = (coding_merged[column_ob] == coding_merged[column_bu]).sum()\n",
    "        percentage_agreement = total_agreement_series.sum() / len(coding_merged)\n",
    "\n",
    "        kappa_score = cohen_kappa_score(\n",
    "            coding_merged[column_ob].astype(\"Int64\").fillna(-1),\n",
    "            coding_merged[column_bu].astype(\"Int64\").fillna(-1)\n",
    "        )\n",
    "\n",
    "        output[column][\"agreement_percentage\"] = percentage_agreement\n",
    "        output[column][\"cohen_kappa\"] = kappa_score\n",
    "    \n",
    "    return output"
   ]
  },
  {
   "cell_type": "code",
   "execution_count": 24,
   "metadata": {},
   "outputs": [],
   "source": [
    "comparison = compare_columns(\n",
    "    coding_merged.loc[\n",
    "        (coding_merged[\"question_type\"] == \"Closed-ended\")\n",
    "        & \n",
    "        (True)], columns_to_compare)"
   ]
  },
  {
   "cell_type": "code",
   "execution_count": 37,
   "metadata": {},
   "outputs": [
    {
     "name": "stdout",
     "output_type": "stream",
     "text": [
      "The 'is_correct' column has\n",
      "\t98.74% agreement with a\n",
      "\tCohen's kappa coefficient of 0.973.\n",
      "The 'has_correct_reasoning' column has\n",
      "\t94.97% agreement with a\n",
      "\tCohen's kappa coefficient of 0.906.\n",
      "The 'is_beyond_scope' column has\n",
      "\t96.86% agreement with a\n",
      "\tCohen's kappa coefficient of 0.837.\n"
     ]
    }
   ],
   "source": [
    "for key, value in comparison.items():\n",
    "    print(f\"The '{key}' column has\\n\\t{round(value[\"agreement_percentage\"] * 100, 2)}% agreement with a\\n\\tCohen's kappa coefficient of {round(value[\"cohen_kappa\"], 3)}.\")"
   ]
  }
 ],
 "metadata": {
  "kernelspec": {
   "display_name": "Python 3",
   "language": "python",
   "name": "python3"
  },
  "language_info": {
   "codemirror_mode": {
    "name": "ipython",
    "version": 3
   },
   "file_extension": ".py",
   "mimetype": "text/x-python",
   "name": "python",
   "nbconvert_exporter": "python",
   "pygments_lexer": "ipython3",
   "version": "3.12.0"
  }
 },
 "nbformat": 4,
 "nbformat_minor": 2
}

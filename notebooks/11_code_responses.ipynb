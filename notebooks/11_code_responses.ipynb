{
 "cells": [
  {
   "cell_type": "code",
   "execution_count": 15,
   "metadata": {},
   "outputs": [],
   "source": [
    "import pandas as pd\n",
    "import glob\n",
    "from datetime import datetime"
   ]
  },
  {
   "cell_type": "code",
   "execution_count": 16,
   "metadata": {},
   "outputs": [],
   "source": [
    "coded_responses_path = \"../input/responses_unique_answers_coded/10_unique_answers_coded.csv\""
   ]
  },
  {
   "cell_type": "code",
   "execution_count": 17,
   "metadata": {},
   "outputs": [
    {
     "ename": "FileNotFoundError",
     "evalue": "[Errno 2] No such file or directory: '../input/responses_unique_answers_coded/10_unique_answers_coded.csv'",
     "output_type": "error",
     "traceback": [
      "\u001b[0;31m---------------------------------------------------------------------------\u001b[0m",
      "\u001b[0;31mFileNotFoundError\u001b[0m                         Traceback (most recent call last)",
      "Cell \u001b[0;32mIn[17], line 1\u001b[0m\n\u001b[0;32m----> 1\u001b[0m coded_df \u001b[38;5;241m=\u001b[39m \u001b[43mpd\u001b[49m\u001b[38;5;241;43m.\u001b[39;49m\u001b[43mread_csv\u001b[49m\u001b[43m(\u001b[49m\n\u001b[1;32m      2\u001b[0m \u001b[43m    \u001b[49m\u001b[43mcoded_responses_path\u001b[49m\u001b[43m,\u001b[49m\n\u001b[1;32m      3\u001b[0m \u001b[43m    \u001b[49m\u001b[43mindex_col\u001b[49m\u001b[38;5;241;43m=\u001b[39;49m\u001b[38;5;241;43m0\u001b[39;49m\n\u001b[1;32m      4\u001b[0m \u001b[43m)\u001b[49m\n",
      "File \u001b[0;32m~/.pyenv/versions/3.12.0/lib/python3.12/site-packages/pandas/io/parsers/readers.py:948\u001b[0m, in \u001b[0;36mread_csv\u001b[0;34m(filepath_or_buffer, sep, delimiter, header, names, index_col, usecols, dtype, engine, converters, true_values, false_values, skipinitialspace, skiprows, skipfooter, nrows, na_values, keep_default_na, na_filter, verbose, skip_blank_lines, parse_dates, infer_datetime_format, keep_date_col, date_parser, date_format, dayfirst, cache_dates, iterator, chunksize, compression, thousands, decimal, lineterminator, quotechar, quoting, doublequote, escapechar, comment, encoding, encoding_errors, dialect, on_bad_lines, delim_whitespace, low_memory, memory_map, float_precision, storage_options, dtype_backend)\u001b[0m\n\u001b[1;32m    935\u001b[0m kwds_defaults \u001b[38;5;241m=\u001b[39m _refine_defaults_read(\n\u001b[1;32m    936\u001b[0m     dialect,\n\u001b[1;32m    937\u001b[0m     delimiter,\n\u001b[0;32m   (...)\u001b[0m\n\u001b[1;32m    944\u001b[0m     dtype_backend\u001b[38;5;241m=\u001b[39mdtype_backend,\n\u001b[1;32m    945\u001b[0m )\n\u001b[1;32m    946\u001b[0m kwds\u001b[38;5;241m.\u001b[39mupdate(kwds_defaults)\n\u001b[0;32m--> 948\u001b[0m \u001b[38;5;28;01mreturn\u001b[39;00m \u001b[43m_read\u001b[49m\u001b[43m(\u001b[49m\u001b[43mfilepath_or_buffer\u001b[49m\u001b[43m,\u001b[49m\u001b[43m \u001b[49m\u001b[43mkwds\u001b[49m\u001b[43m)\u001b[49m\n",
      "File \u001b[0;32m~/.pyenv/versions/3.12.0/lib/python3.12/site-packages/pandas/io/parsers/readers.py:611\u001b[0m, in \u001b[0;36m_read\u001b[0;34m(filepath_or_buffer, kwds)\u001b[0m\n\u001b[1;32m    608\u001b[0m _validate_names(kwds\u001b[38;5;241m.\u001b[39mget(\u001b[38;5;124m\"\u001b[39m\u001b[38;5;124mnames\u001b[39m\u001b[38;5;124m\"\u001b[39m, \u001b[38;5;28;01mNone\u001b[39;00m))\n\u001b[1;32m    610\u001b[0m \u001b[38;5;66;03m# Create the parser.\u001b[39;00m\n\u001b[0;32m--> 611\u001b[0m parser \u001b[38;5;241m=\u001b[39m \u001b[43mTextFileReader\u001b[49m\u001b[43m(\u001b[49m\u001b[43mfilepath_or_buffer\u001b[49m\u001b[43m,\u001b[49m\u001b[43m \u001b[49m\u001b[38;5;241;43m*\u001b[39;49m\u001b[38;5;241;43m*\u001b[39;49m\u001b[43mkwds\u001b[49m\u001b[43m)\u001b[49m\n\u001b[1;32m    613\u001b[0m \u001b[38;5;28;01mif\u001b[39;00m chunksize \u001b[38;5;129;01mor\u001b[39;00m iterator:\n\u001b[1;32m    614\u001b[0m     \u001b[38;5;28;01mreturn\u001b[39;00m parser\n",
      "File \u001b[0;32m~/.pyenv/versions/3.12.0/lib/python3.12/site-packages/pandas/io/parsers/readers.py:1448\u001b[0m, in \u001b[0;36mTextFileReader.__init__\u001b[0;34m(self, f, engine, **kwds)\u001b[0m\n\u001b[1;32m   1445\u001b[0m     \u001b[38;5;28mself\u001b[39m\u001b[38;5;241m.\u001b[39moptions[\u001b[38;5;124m\"\u001b[39m\u001b[38;5;124mhas_index_names\u001b[39m\u001b[38;5;124m\"\u001b[39m] \u001b[38;5;241m=\u001b[39m kwds[\u001b[38;5;124m\"\u001b[39m\u001b[38;5;124mhas_index_names\u001b[39m\u001b[38;5;124m\"\u001b[39m]\n\u001b[1;32m   1447\u001b[0m \u001b[38;5;28mself\u001b[39m\u001b[38;5;241m.\u001b[39mhandles: IOHandles \u001b[38;5;241m|\u001b[39m \u001b[38;5;28;01mNone\u001b[39;00m \u001b[38;5;241m=\u001b[39m \u001b[38;5;28;01mNone\u001b[39;00m\n\u001b[0;32m-> 1448\u001b[0m \u001b[38;5;28mself\u001b[39m\u001b[38;5;241m.\u001b[39m_engine \u001b[38;5;241m=\u001b[39m \u001b[38;5;28;43mself\u001b[39;49m\u001b[38;5;241;43m.\u001b[39;49m\u001b[43m_make_engine\u001b[49m\u001b[43m(\u001b[49m\u001b[43mf\u001b[49m\u001b[43m,\u001b[49m\u001b[43m \u001b[49m\u001b[38;5;28;43mself\u001b[39;49m\u001b[38;5;241;43m.\u001b[39;49m\u001b[43mengine\u001b[49m\u001b[43m)\u001b[49m\n",
      "File \u001b[0;32m~/.pyenv/versions/3.12.0/lib/python3.12/site-packages/pandas/io/parsers/readers.py:1705\u001b[0m, in \u001b[0;36mTextFileReader._make_engine\u001b[0;34m(self, f, engine)\u001b[0m\n\u001b[1;32m   1703\u001b[0m     \u001b[38;5;28;01mif\u001b[39;00m \u001b[38;5;124m\"\u001b[39m\u001b[38;5;124mb\u001b[39m\u001b[38;5;124m\"\u001b[39m \u001b[38;5;129;01mnot\u001b[39;00m \u001b[38;5;129;01min\u001b[39;00m mode:\n\u001b[1;32m   1704\u001b[0m         mode \u001b[38;5;241m+\u001b[39m\u001b[38;5;241m=\u001b[39m \u001b[38;5;124m\"\u001b[39m\u001b[38;5;124mb\u001b[39m\u001b[38;5;124m\"\u001b[39m\n\u001b[0;32m-> 1705\u001b[0m \u001b[38;5;28mself\u001b[39m\u001b[38;5;241m.\u001b[39mhandles \u001b[38;5;241m=\u001b[39m \u001b[43mget_handle\u001b[49m\u001b[43m(\u001b[49m\n\u001b[1;32m   1706\u001b[0m \u001b[43m    \u001b[49m\u001b[43mf\u001b[49m\u001b[43m,\u001b[49m\n\u001b[1;32m   1707\u001b[0m \u001b[43m    \u001b[49m\u001b[43mmode\u001b[49m\u001b[43m,\u001b[49m\n\u001b[1;32m   1708\u001b[0m \u001b[43m    \u001b[49m\u001b[43mencoding\u001b[49m\u001b[38;5;241;43m=\u001b[39;49m\u001b[38;5;28;43mself\u001b[39;49m\u001b[38;5;241;43m.\u001b[39;49m\u001b[43moptions\u001b[49m\u001b[38;5;241;43m.\u001b[39;49m\u001b[43mget\u001b[49m\u001b[43m(\u001b[49m\u001b[38;5;124;43m\"\u001b[39;49m\u001b[38;5;124;43mencoding\u001b[39;49m\u001b[38;5;124;43m\"\u001b[39;49m\u001b[43m,\u001b[49m\u001b[43m \u001b[49m\u001b[38;5;28;43;01mNone\u001b[39;49;00m\u001b[43m)\u001b[49m\u001b[43m,\u001b[49m\n\u001b[1;32m   1709\u001b[0m \u001b[43m    \u001b[49m\u001b[43mcompression\u001b[49m\u001b[38;5;241;43m=\u001b[39;49m\u001b[38;5;28;43mself\u001b[39;49m\u001b[38;5;241;43m.\u001b[39;49m\u001b[43moptions\u001b[49m\u001b[38;5;241;43m.\u001b[39;49m\u001b[43mget\u001b[49m\u001b[43m(\u001b[49m\u001b[38;5;124;43m\"\u001b[39;49m\u001b[38;5;124;43mcompression\u001b[39;49m\u001b[38;5;124;43m\"\u001b[39;49m\u001b[43m,\u001b[49m\u001b[43m \u001b[49m\u001b[38;5;28;43;01mNone\u001b[39;49;00m\u001b[43m)\u001b[49m\u001b[43m,\u001b[49m\n\u001b[1;32m   1710\u001b[0m \u001b[43m    \u001b[49m\u001b[43mmemory_map\u001b[49m\u001b[38;5;241;43m=\u001b[39;49m\u001b[38;5;28;43mself\u001b[39;49m\u001b[38;5;241;43m.\u001b[39;49m\u001b[43moptions\u001b[49m\u001b[38;5;241;43m.\u001b[39;49m\u001b[43mget\u001b[49m\u001b[43m(\u001b[49m\u001b[38;5;124;43m\"\u001b[39;49m\u001b[38;5;124;43mmemory_map\u001b[39;49m\u001b[38;5;124;43m\"\u001b[39;49m\u001b[43m,\u001b[49m\u001b[43m \u001b[49m\u001b[38;5;28;43;01mFalse\u001b[39;49;00m\u001b[43m)\u001b[49m\u001b[43m,\u001b[49m\n\u001b[1;32m   1711\u001b[0m \u001b[43m    \u001b[49m\u001b[43mis_text\u001b[49m\u001b[38;5;241;43m=\u001b[39;49m\u001b[43mis_text\u001b[49m\u001b[43m,\u001b[49m\n\u001b[1;32m   1712\u001b[0m \u001b[43m    \u001b[49m\u001b[43merrors\u001b[49m\u001b[38;5;241;43m=\u001b[39;49m\u001b[38;5;28;43mself\u001b[39;49m\u001b[38;5;241;43m.\u001b[39;49m\u001b[43moptions\u001b[49m\u001b[38;5;241;43m.\u001b[39;49m\u001b[43mget\u001b[49m\u001b[43m(\u001b[49m\u001b[38;5;124;43m\"\u001b[39;49m\u001b[38;5;124;43mencoding_errors\u001b[39;49m\u001b[38;5;124;43m\"\u001b[39;49m\u001b[43m,\u001b[49m\u001b[43m \u001b[49m\u001b[38;5;124;43m\"\u001b[39;49m\u001b[38;5;124;43mstrict\u001b[39;49m\u001b[38;5;124;43m\"\u001b[39;49m\u001b[43m)\u001b[49m\u001b[43m,\u001b[49m\n\u001b[1;32m   1713\u001b[0m \u001b[43m    \u001b[49m\u001b[43mstorage_options\u001b[49m\u001b[38;5;241;43m=\u001b[39;49m\u001b[38;5;28;43mself\u001b[39;49m\u001b[38;5;241;43m.\u001b[39;49m\u001b[43moptions\u001b[49m\u001b[38;5;241;43m.\u001b[39;49m\u001b[43mget\u001b[49m\u001b[43m(\u001b[49m\u001b[38;5;124;43m\"\u001b[39;49m\u001b[38;5;124;43mstorage_options\u001b[39;49m\u001b[38;5;124;43m\"\u001b[39;49m\u001b[43m,\u001b[49m\u001b[43m \u001b[49m\u001b[38;5;28;43;01mNone\u001b[39;49;00m\u001b[43m)\u001b[49m\u001b[43m,\u001b[49m\n\u001b[1;32m   1714\u001b[0m \u001b[43m\u001b[49m\u001b[43m)\u001b[49m\n\u001b[1;32m   1715\u001b[0m \u001b[38;5;28;01massert\u001b[39;00m \u001b[38;5;28mself\u001b[39m\u001b[38;5;241m.\u001b[39mhandles \u001b[38;5;129;01mis\u001b[39;00m \u001b[38;5;129;01mnot\u001b[39;00m \u001b[38;5;28;01mNone\u001b[39;00m\n\u001b[1;32m   1716\u001b[0m f \u001b[38;5;241m=\u001b[39m \u001b[38;5;28mself\u001b[39m\u001b[38;5;241m.\u001b[39mhandles\u001b[38;5;241m.\u001b[39mhandle\n",
      "File \u001b[0;32m~/.pyenv/versions/3.12.0/lib/python3.12/site-packages/pandas/io/common.py:863\u001b[0m, in \u001b[0;36mget_handle\u001b[0;34m(path_or_buf, mode, encoding, compression, memory_map, is_text, errors, storage_options)\u001b[0m\n\u001b[1;32m    858\u001b[0m \u001b[38;5;28;01melif\u001b[39;00m \u001b[38;5;28misinstance\u001b[39m(handle, \u001b[38;5;28mstr\u001b[39m):\n\u001b[1;32m    859\u001b[0m     \u001b[38;5;66;03m# Check whether the filename is to be opened in binary mode.\u001b[39;00m\n\u001b[1;32m    860\u001b[0m     \u001b[38;5;66;03m# Binary mode does not support 'encoding' and 'newline'.\u001b[39;00m\n\u001b[1;32m    861\u001b[0m     \u001b[38;5;28;01mif\u001b[39;00m ioargs\u001b[38;5;241m.\u001b[39mencoding \u001b[38;5;129;01mand\u001b[39;00m \u001b[38;5;124m\"\u001b[39m\u001b[38;5;124mb\u001b[39m\u001b[38;5;124m\"\u001b[39m \u001b[38;5;129;01mnot\u001b[39;00m \u001b[38;5;129;01min\u001b[39;00m ioargs\u001b[38;5;241m.\u001b[39mmode:\n\u001b[1;32m    862\u001b[0m         \u001b[38;5;66;03m# Encoding\u001b[39;00m\n\u001b[0;32m--> 863\u001b[0m         handle \u001b[38;5;241m=\u001b[39m \u001b[38;5;28;43mopen\u001b[39;49m\u001b[43m(\u001b[49m\n\u001b[1;32m    864\u001b[0m \u001b[43m            \u001b[49m\u001b[43mhandle\u001b[49m\u001b[43m,\u001b[49m\n\u001b[1;32m    865\u001b[0m \u001b[43m            \u001b[49m\u001b[43mioargs\u001b[49m\u001b[38;5;241;43m.\u001b[39;49m\u001b[43mmode\u001b[49m\u001b[43m,\u001b[49m\n\u001b[1;32m    866\u001b[0m \u001b[43m            \u001b[49m\u001b[43mencoding\u001b[49m\u001b[38;5;241;43m=\u001b[39;49m\u001b[43mioargs\u001b[49m\u001b[38;5;241;43m.\u001b[39;49m\u001b[43mencoding\u001b[49m\u001b[43m,\u001b[49m\n\u001b[1;32m    867\u001b[0m \u001b[43m            \u001b[49m\u001b[43merrors\u001b[49m\u001b[38;5;241;43m=\u001b[39;49m\u001b[43merrors\u001b[49m\u001b[43m,\u001b[49m\n\u001b[1;32m    868\u001b[0m \u001b[43m            \u001b[49m\u001b[43mnewline\u001b[49m\u001b[38;5;241;43m=\u001b[39;49m\u001b[38;5;124;43m\"\u001b[39;49m\u001b[38;5;124;43m\"\u001b[39;49m\u001b[43m,\u001b[49m\n\u001b[1;32m    869\u001b[0m \u001b[43m        \u001b[49m\u001b[43m)\u001b[49m\n\u001b[1;32m    870\u001b[0m     \u001b[38;5;28;01melse\u001b[39;00m:\n\u001b[1;32m    871\u001b[0m         \u001b[38;5;66;03m# Binary mode\u001b[39;00m\n\u001b[1;32m    872\u001b[0m         handle \u001b[38;5;241m=\u001b[39m \u001b[38;5;28mopen\u001b[39m(handle, ioargs\u001b[38;5;241m.\u001b[39mmode)\n",
      "\u001b[0;31mFileNotFoundError\u001b[0m: [Errno 2] No such file or directory: '../input/responses_unique_answers_coded/10_unique_answers_coded.csv'"
     ]
    }
   ],
   "source": [
    "coded_df = pd.read_csv(\n",
    "    coded_responses_path,\n",
    "    index_col=0\n",
    ")"
   ]
  },
  {
   "cell_type": "code",
   "execution_count": null,
   "metadata": {},
   "outputs": [],
   "source": [
    "all_responses_path = \"../output/responses_combined/07_combined_responses.csv\""
   ]
  },
  {
   "cell_type": "code",
   "execution_count": null,
   "metadata": {},
   "outputs": [],
   "source": [
    "responses_df = pd.read_csv(\n",
    "    all_responses_path,\n",
    "    index_col=0\n",
    ")"
   ]
  },
  {
   "cell_type": "code",
   "execution_count": null,
   "metadata": {},
   "outputs": [
    {
     "name": "stdout",
     "output_type": "stream",
     "text": [
      "<class 'pandas.core.frame.DataFrame'>\n",
      "Index: 219 entries, 0 to 525\n",
      "Data columns (total 7 columns):\n",
      " #   Column                     Non-Null Count  Dtype \n",
      "---  ------                     --------------  ----- \n",
      " 0   story_id                   219 non-null    object\n",
      " 1   story_content              219 non-null    object\n",
      " 2   question_id                219 non-null    object\n",
      " 3   question_content           219 non-null    object\n",
      " 4   answer_correct             219 non-null    object\n",
      " 5   choices_0_message_content  219 non-null    int64 \n",
      " 6   is_correct                 219 non-null    int64 \n",
      "dtypes: int64(2), object(5)\n",
      "memory usage: 13.7+ KB\n"
     ]
    }
   ],
   "source": [
    "coded_df.info()"
   ]
  },
  {
   "cell_type": "code",
   "execution_count": null,
   "metadata": {},
   "outputs": [
    {
     "name": "stdout",
     "output_type": "stream",
     "text": [
      "<class 'pandas.core.frame.DataFrame'>\n",
      "Index: 267 entries, 0 to 266\n",
      "Data columns (total 63 columns):\n",
      " #   Column                                               Non-Null Count  Dtype  \n",
      "---  ------                                               --------------  -----  \n",
      " 0   index                                                267 non-null    int64  \n",
      " 1   study_id                                             267 non-null    int64  \n",
      " 2   study_name                                           267 non-null    object \n",
      " 3   scenario_id                                          267 non-null    int64  \n",
      " 4   scenario_code                                        267 non-null    object \n",
      " 5   story_id                                             267 non-null    object \n",
      " 6   chat_id                                              267 non-null    int64  \n",
      " 7   story_common_id                                      267 non-null    object \n",
      " 8   story_category                                       267 non-null    object \n",
      " 9   story_name                                           267 non-null    object \n",
      " 10  story_content                                        267 non-null    object \n",
      " 11  story_language                                       267 non-null    object \n",
      " 12  chat_name                                            267 non-null    object \n",
      " 13  chat_language                                        267 non-null    object \n",
      " 14  chat_has_fbv_zan                                     61 non-null     float64\n",
      " 15  chat_has_fbv_san                                     61 non-null     float64\n",
      " 16  questions                                            267 non-null    object \n",
      " 17  system_message_id                                    267 non-null    int64  \n",
      " 18  system_message_language                              267 non-null    object \n",
      " 19  system_message_content                               267 non-null    object \n",
      " 20  question_index                                       267 non-null    int64  \n",
      " 21  question_id                                          267 non-null    object \n",
      " 22  question_common_id                                   267 non-null    int64  \n",
      " 23  question_content                                     267 non-null    object \n",
      " 24  question_options                                     267 non-null    object \n",
      " 25  question_type                                        267 non-null    object \n",
      " 26  question_language                                    267 non-null    object \n",
      " 27  question_has_fbv_zan                                 31 non-null     float64\n",
      " 28  question_has_fbv_san                                 32 non-null     float64\n",
      " 29  question_tom_order                                   267 non-null    int64  \n",
      " 30  question_tom_type                                    267 non-null    object \n",
      " 31  answer_id                                            245 non-null    float64\n",
      " 32  answer_correct                                       245 non-null    object \n",
      " 33  index.1                                              267 non-null    int64  \n",
      " 34  id                                                   267 non-null    object \n",
      " 35  choices_0_finish_reason                              267 non-null    object \n",
      " 36  choices_0_index                                      267 non-null    int64  \n",
      " 37  choices_0_logprobs_content_0_token                   267 non-null    int64  \n",
      " 38  choices_0_logprobs_content_0_logprob                 267 non-null    float64\n",
      " 39  choices_0_logprobs_content_0_top_logprobs_0_token    267 non-null    int64  \n",
      " 40  choices_0_logprobs_content_0_top_logprobs_0_logprob  267 non-null    float64\n",
      " 41  choices_0_logprobs_content_0_top_logprobs_1_token    267 non-null    object \n",
      " 42  choices_0_logprobs_content_0_top_logprobs_1_logprob  267 non-null    float64\n",
      " 43  choices_0_logprobs_content_0_top_logprobs_2_token    267 non-null    object \n",
      " 44  choices_0_logprobs_content_0_top_logprobs_2_logprob  267 non-null    float64\n",
      " 45  choices_0_logprobs_content_0_top_logprobs_3_token    267 non-null    object \n",
      " 46  choices_0_logprobs_content_0_top_logprobs_3_logprob  267 non-null    float64\n",
      " 47  choices_0_logprobs_content_0_top_logprobs_4_token    267 non-null    object \n",
      " 48  choices_0_logprobs_content_0_top_logprobs_4_logprob  267 non-null    float64\n",
      " 49  choices_0_message_content                            267 non-null    int64  \n",
      " 50  choices_0_message_role                               267 non-null    object \n",
      " 51  created                                              267 non-null    int64  \n",
      " 52  model                                                267 non-null    object \n",
      " 53  object                                               267 non-null    object \n",
      " 54  system_fingerprint                                   267 non-null    object \n",
      " 55  usage_completion_tokens                              267 non-null    int64  \n",
      " 56  usage_prompt_tokens                                  267 non-null    int64  \n",
      " 57  usage_total_tokens                                   267 non-null    int64  \n",
      " 58  session_counter                                      267 non-null    int64  \n",
      " 59  logprob_sum                                          267 non-null    float64\n",
      " 60  logprob_mean                                         267 non-null    float64\n",
      " 61  logprob_sum_exp                                      267 non-null    float64\n",
      " 62  perplexity_score                                     267 non-null    float64\n",
      "dtypes: float64(15), int64(18), object(30)\n",
      "memory usage: 133.5+ KB\n"
     ]
    }
   ],
   "source": [
    "responses_df.info()"
   ]
  },
  {
   "cell_type": "code",
   "execution_count": null,
   "metadata": {},
   "outputs": [],
   "source": [
    "combined_df = pd.merge(\n",
    "    left=responses_df,\n",
    "    right=coded_df,\n",
    "    on=[\"story_id\", \"story_content\", \"question_id\",\n",
    "        \"question_content\", \"answer_correct\", \"choices_0_message_content\"\n",
    "        ]\n",
    ")"
   ]
  },
  {
   "cell_type": "code",
   "execution_count": null,
   "metadata": {},
   "outputs": [
    {
     "name": "stdout",
     "output_type": "stream",
     "text": [
      "<class 'pandas.core.frame.DataFrame'>\n",
      "RangeIndex: 224 entries, 0 to 223\n",
      "Data columns (total 64 columns):\n",
      " #   Column                                               Non-Null Count  Dtype  \n",
      "---  ------                                               --------------  -----  \n",
      " 0   index                                                224 non-null    int64  \n",
      " 1   study_id                                             224 non-null    int64  \n",
      " 2   study_name                                           224 non-null    object \n",
      " 3   scenario_id                                          224 non-null    int64  \n",
      " 4   scenario_code                                        224 non-null    object \n",
      " 5   story_id                                             224 non-null    object \n",
      " 6   chat_id                                              224 non-null    int64  \n",
      " 7   story_common_id                                      224 non-null    object \n",
      " 8   story_category                                       224 non-null    object \n",
      " 9   story_name                                           224 non-null    object \n",
      " 10  story_content                                        224 non-null    object \n",
      " 11  story_language                                       224 non-null    object \n",
      " 12  chat_name                                            224 non-null    object \n",
      " 13  chat_language                                        224 non-null    object \n",
      " 14  chat_has_fbv_zan                                     51 non-null     float64\n",
      " 15  chat_has_fbv_san                                     52 non-null     float64\n",
      " 16  questions                                            224 non-null    object \n",
      " 17  system_message_id                                    224 non-null    int64  \n",
      " 18  system_message_language                              224 non-null    object \n",
      " 19  system_message_content                               224 non-null    object \n",
      " 20  question_index                                       224 non-null    int64  \n",
      " 21  question_id                                          224 non-null    object \n",
      " 22  question_common_id                                   224 non-null    int64  \n",
      " 23  question_content                                     224 non-null    object \n",
      " 24  question_options                                     224 non-null    object \n",
      " 25  question_type                                        224 non-null    object \n",
      " 26  question_language                                    224 non-null    object \n",
      " 27  question_has_fbv_zan                                 24 non-null     float64\n",
      " 28  question_has_fbv_san                                 26 non-null     float64\n",
      " 29  question_tom_order                                   224 non-null    int64  \n",
      " 30  question_tom_type                                    224 non-null    object \n",
      " 31  answer_id                                            224 non-null    float64\n",
      " 32  answer_correct                                       224 non-null    object \n",
      " 33  index.1                                              224 non-null    int64  \n",
      " 34  id                                                   224 non-null    object \n",
      " 35  choices_0_finish_reason                              224 non-null    object \n",
      " 36  choices_0_index                                      224 non-null    int64  \n",
      " 37  choices_0_logprobs_content_0_token                   224 non-null    int64  \n",
      " 38  choices_0_logprobs_content_0_logprob                 224 non-null    float64\n",
      " 39  choices_0_logprobs_content_0_top_logprobs_0_token    224 non-null    int64  \n",
      " 40  choices_0_logprobs_content_0_top_logprobs_0_logprob  224 non-null    float64\n",
      " 41  choices_0_logprobs_content_0_top_logprobs_1_token    224 non-null    object \n",
      " 42  choices_0_logprobs_content_0_top_logprobs_1_logprob  224 non-null    float64\n",
      " 43  choices_0_logprobs_content_0_top_logprobs_2_token    224 non-null    object \n",
      " 44  choices_0_logprobs_content_0_top_logprobs_2_logprob  224 non-null    float64\n",
      " 45  choices_0_logprobs_content_0_top_logprobs_3_token    224 non-null    object \n",
      " 46  choices_0_logprobs_content_0_top_logprobs_3_logprob  224 non-null    float64\n",
      " 47  choices_0_logprobs_content_0_top_logprobs_4_token    224 non-null    object \n",
      " 48  choices_0_logprobs_content_0_top_logprobs_4_logprob  224 non-null    float64\n",
      " 49  choices_0_message_content                            224 non-null    int64  \n",
      " 50  choices_0_message_role                               224 non-null    object \n",
      " 51  created                                              224 non-null    int64  \n",
      " 52  model                                                224 non-null    object \n",
      " 53  object                                               224 non-null    object \n",
      " 54  system_fingerprint                                   224 non-null    object \n",
      " 55  usage_completion_tokens                              224 non-null    int64  \n",
      " 56  usage_prompt_tokens                                  224 non-null    int64  \n",
      " 57  usage_total_tokens                                   224 non-null    int64  \n",
      " 58  session_counter                                      224 non-null    int64  \n",
      " 59  logprob_sum                                          224 non-null    float64\n",
      " 60  logprob_mean                                         224 non-null    float64\n",
      " 61  logprob_sum_exp                                      224 non-null    float64\n",
      " 62  perplexity_score                                     224 non-null    float64\n",
      " 63  is_correct                                           224 non-null    int64  \n",
      "dtypes: float64(15), int64(19), object(30)\n",
      "memory usage: 112.1+ KB\n"
     ]
    }
   ],
   "source": [
    "combined_df.info()"
   ]
  },
  {
   "cell_type": "code",
   "execution_count": null,
   "metadata": {},
   "outputs": [],
   "source": [
    "combined_df = combined_df.drop(columns=[\"logprob_sum\", \"logprob_mean\", \"logprob_sum_exp\", \"perplexity_score\"])"
   ]
  },
  {
   "cell_type": "code",
   "execution_count": null,
   "metadata": {},
   "outputs": [],
   "source": [
    "import numpy as np"
   ]
  },
  {
   "cell_type": "code",
   "execution_count": null,
   "metadata": {},
   "outputs": [],
   "source": [
    "combined_df[\"logprob_sum\"] = combined_df[\"choices_0_logprobs_content_0_logprob\"]\n",
    "combined_df[\"logprob_mean\"] = combined_df[\"choices_0_logprobs_content_0_logprob\"]\n",
    "combined_df[\"logprob_sum_exp\"] = np.exp(combined_df[\"logprob_sum\"])\n",
    "combined_df[\"perplexity_score\"] = np.exp(-combined_df[\"logprob_mean\"])"
   ]
  },
  {
   "cell_type": "code",
   "execution_count": null,
   "metadata": {},
   "outputs": [
    {
     "name": "stdout",
     "output_type": "stream",
     "text": [
      "<class 'pandas.core.frame.DataFrame'>\n",
      "RangeIndex: 224 entries, 0 to 223\n",
      "Data columns (total 64 columns):\n",
      " #   Column                                               Non-Null Count  Dtype  \n",
      "---  ------                                               --------------  -----  \n",
      " 0   index                                                224 non-null    int64  \n",
      " 1   study_id                                             224 non-null    int64  \n",
      " 2   study_name                                           224 non-null    object \n",
      " 3   scenario_id                                          224 non-null    int64  \n",
      " 4   scenario_code                                        224 non-null    object \n",
      " 5   story_id                                             224 non-null    object \n",
      " 6   chat_id                                              224 non-null    int64  \n",
      " 7   story_common_id                                      224 non-null    object \n",
      " 8   story_category                                       224 non-null    object \n",
      " 9   story_name                                           224 non-null    object \n",
      " 10  story_content                                        224 non-null    object \n",
      " 11  story_language                                       224 non-null    object \n",
      " 12  chat_name                                            224 non-null    object \n",
      " 13  chat_language                                        224 non-null    object \n",
      " 14  chat_has_fbv_zan                                     51 non-null     float64\n",
      " 15  chat_has_fbv_san                                     52 non-null     float64\n",
      " 16  questions                                            224 non-null    object \n",
      " 17  system_message_id                                    224 non-null    int64  \n",
      " 18  system_message_language                              224 non-null    object \n",
      " 19  system_message_content                               224 non-null    object \n",
      " 20  question_index                                       224 non-null    int64  \n",
      " 21  question_id                                          224 non-null    object \n",
      " 22  question_common_id                                   224 non-null    int64  \n",
      " 23  question_content                                     224 non-null    object \n",
      " 24  question_options                                     224 non-null    object \n",
      " 25  question_type                                        224 non-null    object \n",
      " 26  question_language                                    224 non-null    object \n",
      " 27  question_has_fbv_zan                                 24 non-null     float64\n",
      " 28  question_has_fbv_san                                 26 non-null     float64\n",
      " 29  question_tom_order                                   224 non-null    int64  \n",
      " 30  question_tom_type                                    224 non-null    object \n",
      " 31  answer_id                                            224 non-null    float64\n",
      " 32  answer_correct                                       224 non-null    object \n",
      " 33  index.1                                              224 non-null    int64  \n",
      " 34  id                                                   224 non-null    object \n",
      " 35  choices_0_finish_reason                              224 non-null    object \n",
      " 36  choices_0_index                                      224 non-null    int64  \n",
      " 37  choices_0_logprobs_content_0_token                   224 non-null    int64  \n",
      " 38  choices_0_logprobs_content_0_logprob                 224 non-null    float64\n",
      " 39  choices_0_logprobs_content_0_top_logprobs_0_token    224 non-null    int64  \n",
      " 40  choices_0_logprobs_content_0_top_logprobs_0_logprob  224 non-null    float64\n",
      " 41  choices_0_logprobs_content_0_top_logprobs_1_token    224 non-null    object \n",
      " 42  choices_0_logprobs_content_0_top_logprobs_1_logprob  224 non-null    float64\n",
      " 43  choices_0_logprobs_content_0_top_logprobs_2_token    224 non-null    object \n",
      " 44  choices_0_logprobs_content_0_top_logprobs_2_logprob  224 non-null    float64\n",
      " 45  choices_0_logprobs_content_0_top_logprobs_3_token    224 non-null    object \n",
      " 46  choices_0_logprobs_content_0_top_logprobs_3_logprob  224 non-null    float64\n",
      " 47  choices_0_logprobs_content_0_top_logprobs_4_token    224 non-null    object \n",
      " 48  choices_0_logprobs_content_0_top_logprobs_4_logprob  224 non-null    float64\n",
      " 49  choices_0_message_content                            224 non-null    int64  \n",
      " 50  choices_0_message_role                               224 non-null    object \n",
      " 51  created                                              224 non-null    int64  \n",
      " 52  model                                                224 non-null    object \n",
      " 53  object                                               224 non-null    object \n",
      " 54  system_fingerprint                                   224 non-null    object \n",
      " 55  usage_completion_tokens                              224 non-null    int64  \n",
      " 56  usage_prompt_tokens                                  224 non-null    int64  \n",
      " 57  usage_total_tokens                                   224 non-null    int64  \n",
      " 58  session_counter                                      224 non-null    int64  \n",
      " 59  is_correct                                           224 non-null    int64  \n",
      " 60  logprob_sum                                          224 non-null    float64\n",
      " 61  logprob_mean                                         224 non-null    float64\n",
      " 62  logprob_sum_exp                                      224 non-null    float64\n",
      " 63  perplexity_score                                     224 non-null    float64\n",
      "dtypes: float64(15), int64(19), object(30)\n",
      "memory usage: 112.1+ KB\n"
     ]
    }
   ],
   "source": [
    "combined_df.info()"
   ]
  },
  {
   "cell_type": "code",
   "execution_count": null,
   "metadata": {},
   "outputs": [],
   "source": [
    "combined_df.to_csv(\n",
    "    \"../output/responses_coded/12_coded_responses.csv\"\n",
    ")"
   ]
  }
 ],
 "metadata": {
  "kernelspec": {
   "display_name": "Python 3",
   "language": "python",
   "name": "python3"
  },
  "language_info": {
   "codemirror_mode": {
    "name": "ipython",
    "version": 3
   },
   "file_extension": ".py",
   "mimetype": "text/x-python",
   "name": "python",
   "nbconvert_exporter": "python",
   "pygments_lexer": "ipython3",
   "version": "3.12.0"
  }
 },
 "nbformat": 4,
 "nbformat_minor": 2
}

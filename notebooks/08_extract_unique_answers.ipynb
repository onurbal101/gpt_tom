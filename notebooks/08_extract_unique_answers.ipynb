{
 "cells": [
  {
   "cell_type": "code",
   "execution_count": 1,
   "metadata": {},
   "outputs": [],
   "source": [
    "import pandas as pd\n",
    "import glob"
   ]
  },
  {
   "cell_type": "code",
   "execution_count": 2,
   "metadata": {},
   "outputs": [],
   "source": [
    "file_pattern = \"../output/responses_combined/07_combined_responses_*.csv\""
   ]
  },
  {
   "cell_type": "code",
   "execution_count": 3,
   "metadata": {},
   "outputs": [],
   "source": [
    "matching_files = glob.glob(file_pattern)"
   ]
  },
  {
   "cell_type": "code",
   "execution_count": 4,
   "metadata": {},
   "outputs": [],
   "source": [
    "timestamps = [datetime.strptime(file.split(\"_\")[-1].split(\".\")[0], \"%Y-%m-%dT%H-%M-%S\") for file in matching_files]\n",
    "timestamps.sort(reverse=True)"
   ]
  },
  {
   "cell_type": "code",
   "execution_count": 6,
   "metadata": {},
   "outputs": [],
   "source": [
    "#latest_file = next(file for file in matching_files if timestamps[0].strftime(\"%Y-%m-%dT%H-%M-%S\") in file)\n",
    "latest_file = \"../output/responses_combined/07_combined_responses.csv\""
   ]
  },
  {
   "cell_type": "code",
   "execution_count": 7,
   "metadata": {},
   "outputs": [],
   "source": [
    "df = pd.read_csv(\n",
    "    latest_file,\n",
    "    index_col=0\n",
    ")"
   ]
  },
  {
   "cell_type": "code",
   "execution_count": 8,
   "metadata": {},
   "outputs": [
    {
     "data": {
      "text/html": [
       "<div>\n",
       "<style scoped>\n",
       "    .dataframe tbody tr th:only-of-type {\n",
       "        vertical-align: middle;\n",
       "    }\n",
       "\n",
       "    .dataframe tbody tr th {\n",
       "        vertical-align: top;\n",
       "    }\n",
       "\n",
       "    .dataframe thead th {\n",
       "        text-align: right;\n",
       "    }\n",
       "</style>\n",
       "<table border=\"1\" class=\"dataframe\">\n",
       "  <thead>\n",
       "    <tr style=\"text-align: right;\">\n",
       "      <th></th>\n",
       "      <th>index</th>\n",
       "      <th>study_id</th>\n",
       "      <th>study_name</th>\n",
       "      <th>scenario_id</th>\n",
       "      <th>scenario_code</th>\n",
       "      <th>story_id</th>\n",
       "      <th>chat_id</th>\n",
       "      <th>story_common_id</th>\n",
       "      <th>story_category</th>\n",
       "      <th>story_name</th>\n",
       "      <th>...</th>\n",
       "      <th>object</th>\n",
       "      <th>system_fingerprint</th>\n",
       "      <th>usage_completion_tokens</th>\n",
       "      <th>usage_prompt_tokens</th>\n",
       "      <th>usage_total_tokens</th>\n",
       "      <th>session_counter</th>\n",
       "      <th>logprob_sum</th>\n",
       "      <th>logprob_mean</th>\n",
       "      <th>logprob_sum_exp</th>\n",
       "      <th>perplexity_score</th>\n",
       "    </tr>\n",
       "  </thead>\n",
       "  <tbody>\n",
       "    <tr>\n",
       "      <th>0</th>\n",
       "      <td>0</td>\n",
       "      <td>1</td>\n",
       "      <td>Ullman Replication</td>\n",
       "      <td>1</td>\n",
       "      <td>1-EN/1</td>\n",
       "      <td>1-EN</td>\n",
       "      <td>1</td>\n",
       "      <td>1</td>\n",
       "      <td>Unexpected Contents</td>\n",
       "      <td>Base 1</td>\n",
       "      <td>...</td>\n",
       "      <td>chat.completion</td>\n",
       "      <td>fp_c2295e73ad</td>\n",
       "      <td>1</td>\n",
       "      <td>121</td>\n",
       "      <td>122</td>\n",
       "      <td>0</td>\n",
       "      <td>-41.503385</td>\n",
       "      <td>-6.917231</td>\n",
       "      <td>9.447329e-19</td>\n",
       "      <td>1009.520550</td>\n",
       "    </tr>\n",
       "    <tr>\n",
       "      <th>1</th>\n",
       "      <td>0</td>\n",
       "      <td>1</td>\n",
       "      <td>Ullman Replication</td>\n",
       "      <td>2</td>\n",
       "      <td>1A-EN/1</td>\n",
       "      <td>1A-EN</td>\n",
       "      <td>1</td>\n",
       "      <td>1A</td>\n",
       "      <td>Unexpected Contents</td>\n",
       "      <td>Transparent</td>\n",
       "      <td>...</td>\n",
       "      <td>chat.completion</td>\n",
       "      <td>fp_c2295e73ad</td>\n",
       "      <td>1</td>\n",
       "      <td>128</td>\n",
       "      <td>129</td>\n",
       "      <td>1</td>\n",
       "      <td>-40.492527</td>\n",
       "      <td>-6.748754</td>\n",
       "      <td>2.596086e-18</td>\n",
       "      <td>852.995637</td>\n",
       "    </tr>\n",
       "    <tr>\n",
       "      <th>2</th>\n",
       "      <td>0</td>\n",
       "      <td>1</td>\n",
       "      <td>Ullman Replication</td>\n",
       "      <td>3</td>\n",
       "      <td>1B-EN/66</td>\n",
       "      <td>1B-EN</td>\n",
       "      <td>66</td>\n",
       "      <td>1B</td>\n",
       "      <td>Unexpected Contents</td>\n",
       "      <td>Uninformative</td>\n",
       "      <td>...</td>\n",
       "      <td>chat.completion</td>\n",
       "      <td>fp_c2295e73ad</td>\n",
       "      <td>1</td>\n",
       "      <td>129</td>\n",
       "      <td>130</td>\n",
       "      <td>2</td>\n",
       "      <td>-29.207545</td>\n",
       "      <td>-4.867924</td>\n",
       "      <td>2.066924e-13</td>\n",
       "      <td>130.050664</td>\n",
       "    </tr>\n",
       "  </tbody>\n",
       "</table>\n",
       "<p>3 rows × 63 columns</p>\n",
       "</div>"
      ],
      "text/plain": [
       "   index  study_id          study_name  scenario_id scenario_code story_id  \\\n",
       "0      0         1  Ullman Replication            1        1-EN/1     1-EN   \n",
       "1      0         1  Ullman Replication            2       1A-EN/1    1A-EN   \n",
       "2      0         1  Ullman Replication            3      1B-EN/66    1B-EN   \n",
       "\n",
       "   chat_id story_common_id       story_category     story_name  ...  \\\n",
       "0        1               1  Unexpected Contents         Base 1  ...   \n",
       "1        1              1A  Unexpected Contents    Transparent  ...   \n",
       "2       66              1B  Unexpected Contents  Uninformative  ...   \n",
       "\n",
       "            object system_fingerprint usage_completion_tokens  \\\n",
       "0  chat.completion      fp_c2295e73ad                       1   \n",
       "1  chat.completion      fp_c2295e73ad                       1   \n",
       "2  chat.completion      fp_c2295e73ad                       1   \n",
       "\n",
       "  usage_prompt_tokens  usage_total_tokens  session_counter logprob_sum  \\\n",
       "0                 121                 122                0  -41.503385   \n",
       "1                 128                 129                1  -40.492527   \n",
       "2                 129                 130                2  -29.207545   \n",
       "\n",
       "   logprob_mean logprob_sum_exp perplexity_score  \n",
       "0     -6.917231    9.447329e-19      1009.520550  \n",
       "1     -6.748754    2.596086e-18       852.995637  \n",
       "2     -4.867924    2.066924e-13       130.050664  \n",
       "\n",
       "[3 rows x 63 columns]"
      ]
     },
     "execution_count": 8,
     "metadata": {},
     "output_type": "execute_result"
    }
   ],
   "source": [
    "df.head(3)"
   ]
  },
  {
   "cell_type": "code",
   "execution_count": 9,
   "metadata": {},
   "outputs": [
    {
     "data": {
      "text/plain": [
       "['index',\n",
       " 'study_id',\n",
       " 'study_name',\n",
       " 'scenario_id',\n",
       " 'scenario_code',\n",
       " 'story_id',\n",
       " 'chat_id',\n",
       " 'story_common_id',\n",
       " 'story_category',\n",
       " 'story_name',\n",
       " 'story_content',\n",
       " 'story_language',\n",
       " 'chat_name',\n",
       " 'chat_language',\n",
       " 'chat_has_fbv_zan',\n",
       " 'chat_has_fbv_san',\n",
       " 'questions',\n",
       " 'system_message_id',\n",
       " 'system_message_language',\n",
       " 'system_message_content',\n",
       " 'question_index',\n",
       " 'question_id',\n",
       " 'question_common_id',\n",
       " 'question_content',\n",
       " 'question_options',\n",
       " 'question_type',\n",
       " 'question_language',\n",
       " 'question_has_fbv_zan',\n",
       " 'question_has_fbv_san',\n",
       " 'question_tom_order',\n",
       " 'question_tom_type',\n",
       " 'answer_id',\n",
       " 'answer_correct',\n",
       " 'index.1',\n",
       " 'id',\n",
       " 'choices_0_finish_reason',\n",
       " 'choices_0_index',\n",
       " 'choices_0_message_content',\n",
       " 'choices_0_message_role',\n",
       " 'created',\n",
       " 'model',\n",
       " 'object',\n",
       " 'system_fingerprint',\n",
       " 'usage_completion_tokens',\n",
       " 'usage_prompt_tokens',\n",
       " 'usage_total_tokens',\n",
       " 'session_counter',\n",
       " 'logprob_sum',\n",
       " 'logprob_mean',\n",
       " 'logprob_sum_exp',\n",
       " 'perplexity_score']"
      ]
     },
     "execution_count": 9,
     "metadata": {},
     "output_type": "execute_result"
    }
   ],
   "source": [
    "[column for column in df.columns if \"logprobs\" not in column]"
   ]
  },
  {
   "cell_type": "code",
   "execution_count": 10,
   "metadata": {},
   "outputs": [],
   "source": [
    "columns = [\n",
    "    \"story_id\",\n",
    "    \"story_content\",\n",
    "    \"question_id\",\n",
    "    \"question_content\",\n",
    "    \"answer_correct\",\n",
    "    \"choices_0_message_content\",\n",
    "    \"question_options\"\n",
    "]"
   ]
  },
  {
   "cell_type": "code",
   "execution_count": 11,
   "metadata": {},
   "outputs": [],
   "source": [
    "unique_answers = df[columns].drop_duplicates()"
   ]
  },
  {
   "cell_type": "code",
   "execution_count": 13,
   "metadata": {},
   "outputs": [],
   "source": [
    "unique_answers.to_csv(\n",
    "    f\"../output/responses_unique_answers/09_unique_answers.csv\"\n",
    "    )"
   ]
  }
 ],
 "metadata": {
  "kernelspec": {
   "display_name": "Python 3",
   "language": "python",
   "name": "python3"
  },
  "language_info": {
   "codemirror_mode": {
    "name": "ipython",
    "version": 3
   },
   "file_extension": ".py",
   "mimetype": "text/x-python",
   "name": "python",
   "nbconvert_exporter": "python",
   "pygments_lexer": "ipython3",
   "version": "3.12.0"
  }
 },
 "nbformat": 4,
 "nbformat_minor": 2
}

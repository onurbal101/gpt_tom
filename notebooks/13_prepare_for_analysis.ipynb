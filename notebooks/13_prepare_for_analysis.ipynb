{
 "cells": [
  {
   "cell_type": "code",
   "execution_count": 150,
   "metadata": {},
   "outputs": [],
   "source": [
    "import pandas as pd\n",
    "import glob\n",
    "from datetime import datetime"
   ]
  },
  {
   "cell_type": "markdown",
   "metadata": {},
   "source": [
    "If you don't have to manually code responses (i.e. you set `with_options=True` while fetching responses), uncomment the second line below.\n",
    "\n",
    "If you have to manually code responses (for example, with open-ended questions), then you should run notebook 08 first and extract unique answers, then code said answers, place them in `../input/responses_unique_answers_coded/10_unique_answers_coded.csv`, then run notebook 11 to combine the coded answers with the original set of responses. Then, uncomment the second line below and run this notebook."
   ]
  },
  {
   "cell_type": "code",
   "execution_count": 151,
   "metadata": {},
   "outputs": [],
   "source": [
    "#path = \"../output/responses_coded/12_coded_responses.csv\"\n",
    "path = \"../output/responses_combined/07_combined_responses.csv\""
   ]
  },
  {
   "cell_type": "code",
   "execution_count": 152,
   "metadata": {},
   "outputs": [],
   "source": [
    "df = pd.read_csv(\n",
    "    path,\n",
    "    index_col=0\n",
    ")"
   ]
  },
  {
   "cell_type": "code",
   "execution_count": 153,
   "metadata": {},
   "outputs": [],
   "source": [
    "def create_new_column(row):\n",
    "    language = row['story_language']\n",
    "    \n",
    "    if pd.notna(row['question_has_fbv_zan']):\n",
    "        return f\"{language}-zan\"\n",
    "    elif pd.notna(row['question_has_fbv_san']):\n",
    "        return f\"{language}-san\"\n",
    "    else:\n",
    "        return f\"{language}\""
   ]
  },
  {
   "cell_type": "code",
   "execution_count": 154,
   "metadata": {},
   "outputs": [],
   "source": [
    "df[\"custom_question_language_category\"] = df.apply(create_new_column, axis=1)"
   ]
  },
  {
   "cell_type": "code",
   "execution_count": 155,
   "metadata": {},
   "outputs": [],
   "source": [
    "df.to_csv(path)"
   ]
  },
  {
   "cell_type": "code",
   "execution_count": 156,
   "metadata": {},
   "outputs": [
    {
     "data": {
      "text/plain": [
       "'study_id, study_name, scenario_id, scenario_code, story_id, chat_id, story_common_id, story_category, story_name, story_content, story_language, chat_name, chat_language, chat_has_fbv_zan, chat_has_fbv_san, questions, system_message_id, system_message_language, system_message_content, question_index, question_id, question_common_id, question_content, question_options, question_type, question_language, question_has_fbv_zan, question_has_fbv_san, question_tom_order, question_tom_type, answer_id, answer_correct, id, choices_0_finish_reason, choices_0_index, choices_0_logprobs_content_0_token, choices_0_logprobs_content_0_logprob, choices_0_logprobs_content_0_top_logprobs_0_token, choices_0_logprobs_content_0_top_logprobs_0_logprob, choices_0_logprobs_content_0_top_logprobs_1_token, choices_0_logprobs_content_0_top_logprobs_1_logprob, choices_0_logprobs_content_0_top_logprobs_2_token, choices_0_logprobs_content_0_top_logprobs_2_logprob, choices_0_logprobs_content_0_top_logprobs_3_token, choices_0_logprobs_content_0_top_logprobs_3_logprob, choices_0_logprobs_content_0_top_logprobs_4_token, choices_0_logprobs_content_0_top_logprobs_4_logprob, choices_0_logprobs_content_0_top_logprobs_5_token, choices_0_logprobs_content_0_top_logprobs_5_logprob, choices_0_logprobs_content_0_top_logprobs_6_token, choices_0_logprobs_content_0_top_logprobs_6_logprob, choices_0_logprobs_content_0_top_logprobs_7_token, choices_0_logprobs_content_0_top_logprobs_7_logprob, choices_0_logprobs_content_0_top_logprobs_8_token, choices_0_logprobs_content_0_top_logprobs_8_logprob, choices_0_logprobs_content_0_top_logprobs_9_token, choices_0_logprobs_content_0_top_logprobs_9_logprob, choices_0_logprobs_content_0_top_logprobs_10_token, choices_0_logprobs_content_0_top_logprobs_10_logprob, choices_0_logprobs_content_0_top_logprobs_11_token, choices_0_logprobs_content_0_top_logprobs_11_logprob, choices_0_logprobs_content_0_top_logprobs_12_token, choices_0_logprobs_content_0_top_logprobs_12_logprob, choices_0_logprobs_content_0_top_logprobs_13_token, choices_0_logprobs_content_0_top_logprobs_13_logprob, choices_0_logprobs_content_0_top_logprobs_14_token, choices_0_logprobs_content_0_top_logprobs_14_logprob, choices_0_logprobs_content_0_top_logprobs_15_token, choices_0_logprobs_content_0_top_logprobs_15_logprob, choices_0_logprobs_content_0_top_logprobs_16_token, choices_0_logprobs_content_0_top_logprobs_16_logprob, choices_0_logprobs_content_0_top_logprobs_17_token, choices_0_logprobs_content_0_top_logprobs_17_logprob, choices_0_logprobs_content_0_top_logprobs_18_token, choices_0_logprobs_content_0_top_logprobs_18_logprob, choices_0_logprobs_content_0_top_logprobs_19_token, choices_0_logprobs_content_0_top_logprobs_19_logprob, choices_0_message_content, choices_0_message_role, created, model, object, system_fingerprint, usage_completion_tokens, usage_prompt_tokens, usage_total_tokens, session_counter, choices_0_logprobs_content_0_top_logprobs_8_bytes, choices_0_logprobs_content_0_top_logprobs_14_bytes, choices_0_logprobs_content_0_top_logprobs_13_bytes, choices_0_logprobs_content_0_top_logprobs_18_bytes, choices_0_logprobs_content_0_top_logprobs_10_bytes, choices_0_logprobs_content_0_top_logprobs_12_bytes, choices_0_logprobs_content_0_top_logprobs_5_bytes, choices_0_logprobs_content_0_top_logprobs_6_bytes, choices_0_logprobs_content_0_top_logprobs_4_bytes, choices_0_logprobs_content_0_top_logprobs_7_bytes, choices_0_logprobs_content_0_top_logprobs_19_bytes, choices_0_logprobs_content_0_top_logprobs_16_bytes, choices_0_logprobs_content_0_top_logprobs_15_bytes, choices_0_logprobs_content_0_top_logprobs_9_bytes, choices_0_logprobs_content_0_top_logprobs_2_bytes, choices_0_logprobs_content_0_top_logprobs_11_bytes, choices_0_logprobs_content_0_top_logprobs_17_bytes, choices_0_logprobs_content_0_top_logprobs_3_bytes, custom_question_language_category'"
      ]
     },
     "execution_count": 156,
     "metadata": {},
     "output_type": "execute_result"
    }
   ],
   "source": [
    "\", \".join(list(df.columns))"
   ]
  },
  {
   "cell_type": "code",
   "execution_count": 157,
   "metadata": {},
   "outputs": [
    {
     "name": "stdout",
     "output_type": "stream",
     "text": [
      "2\n"
     ]
    }
   ],
   "source": [
    "print(df.iloc[38][\"choices_0_message_content\"])"
   ]
  }
 ],
 "metadata": {
  "kernelspec": {
   "display_name": "Python 3",
   "language": "python",
   "name": "python3"
  },
  "language_info": {
   "codemirror_mode": {
    "name": "ipython",
    "version": 3
   },
   "file_extension": ".py",
   "mimetype": "text/x-python",
   "name": "python",
   "nbconvert_exporter": "python",
   "pygments_lexer": "ipython3",
   "version": "3.12.0"
  }
 },
 "nbformat": 4,
 "nbformat_minor": 2
}

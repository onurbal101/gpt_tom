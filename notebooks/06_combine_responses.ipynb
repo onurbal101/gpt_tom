{
 "cells": [
  {
   "cell_type": "code",
   "execution_count": 105,
   "metadata": {},
   "outputs": [],
   "source": [
    "import pandas as pd\n",
    "import glob\n",
    "from pathlib import Path\n",
    "import datetime"
   ]
  },
  {
   "cell_type": "code",
   "execution_count": 106,
   "metadata": {},
   "outputs": [],
   "source": [
    "directory = Path(\"../output/responses_raw/\")"
   ]
  },
  {
   "cell_type": "code",
   "execution_count": 107,
   "metadata": {},
   "outputs": [],
   "source": [
    "combined_df = pd.concat(\n",
    "    (pd.read_csv(file, index_col=0) for file in directory.glob(\"*.csv\")),\n",
    "    ignore_index=True\n",
    ")"
   ]
  },
  {
   "cell_type": "code",
   "execution_count": 108,
   "metadata": {},
   "outputs": [
    {
     "data": {
      "text/html": [
       "<div>\n",
       "<style scoped>\n",
       "    .dataframe tbody tr th:only-of-type {\n",
       "        vertical-align: middle;\n",
       "    }\n",
       "\n",
       "    .dataframe tbody tr th {\n",
       "        vertical-align: top;\n",
       "    }\n",
       "\n",
       "    .dataframe thead th {\n",
       "        text-align: right;\n",
       "    }\n",
       "</style>\n",
       "<table border=\"1\" class=\"dataframe\">\n",
       "  <thead>\n",
       "    <tr style=\"text-align: right;\">\n",
       "      <th></th>\n",
       "      <th>study_id</th>\n",
       "      <th>study_name</th>\n",
       "      <th>scenario_id</th>\n",
       "      <th>scenario_code</th>\n",
       "      <th>story_id</th>\n",
       "      <th>chat_id</th>\n",
       "      <th>story_common_id</th>\n",
       "      <th>story_category</th>\n",
       "      <th>story_name</th>\n",
       "      <th>story_content</th>\n",
       "      <th>...</th>\n",
       "      <th>choices_0_logprobs_content_0_top_logprobs_4_bytes</th>\n",
       "      <th>choices_0_logprobs_content_0_top_logprobs_7_bytes</th>\n",
       "      <th>choices_0_logprobs_content_0_top_logprobs_19_bytes</th>\n",
       "      <th>choices_0_logprobs_content_0_top_logprobs_16_bytes</th>\n",
       "      <th>choices_0_logprobs_content_0_top_logprobs_15_bytes</th>\n",
       "      <th>choices_0_logprobs_content_0_top_logprobs_9_bytes</th>\n",
       "      <th>choices_0_logprobs_content_0_top_logprobs_2_bytes</th>\n",
       "      <th>choices_0_logprobs_content_0_top_logprobs_11_bytes</th>\n",
       "      <th>choices_0_logprobs_content_0_top_logprobs_17_bytes</th>\n",
       "      <th>choices_0_logprobs_content_0_top_logprobs_3_bytes</th>\n",
       "    </tr>\n",
       "  </thead>\n",
       "  <tbody>\n",
       "    <tr>\n",
       "      <th>0</th>\n",
       "      <td>1</td>\n",
       "      <td>Ullman Replication</td>\n",
       "      <td>1</td>\n",
       "      <td>1-EN/1</td>\n",
       "      <td>1-EN</td>\n",
       "      <td>1</td>\n",
       "      <td>1</td>\n",
       "      <td>Unexpected Contents</td>\n",
       "      <td>Base 1</td>\n",
       "      <td>Here is a bag filled with popcorn. There is no...</td>\n",
       "      <td>...</td>\n",
       "      <td>NaN</td>\n",
       "      <td>NaN</td>\n",
       "      <td>NaN</td>\n",
       "      <td>NaN</td>\n",
       "      <td>NaN</td>\n",
       "      <td>NaN</td>\n",
       "      <td>NaN</td>\n",
       "      <td>NaN</td>\n",
       "      <td>NaN</td>\n",
       "      <td>NaN</td>\n",
       "    </tr>\n",
       "    <tr>\n",
       "      <th>1</th>\n",
       "      <td>1</td>\n",
       "      <td>Ullman Replication</td>\n",
       "      <td>2</td>\n",
       "      <td>1A-EN/1</td>\n",
       "      <td>1A-EN</td>\n",
       "      <td>1</td>\n",
       "      <td>1A</td>\n",
       "      <td>Unexpected Contents</td>\n",
       "      <td>Transparent</td>\n",
       "      <td>Here is a bag filled with popcorn. There is no...</td>\n",
       "      <td>...</td>\n",
       "      <td>NaN</td>\n",
       "      <td>NaN</td>\n",
       "      <td>NaN</td>\n",
       "      <td>NaN</td>\n",
       "      <td>NaN</td>\n",
       "      <td>NaN</td>\n",
       "      <td>NaN</td>\n",
       "      <td>NaN</td>\n",
       "      <td>NaN</td>\n",
       "      <td>NaN</td>\n",
       "    </tr>\n",
       "    <tr>\n",
       "      <th>2</th>\n",
       "      <td>1</td>\n",
       "      <td>Ullman Replication</td>\n",
       "      <td>3</td>\n",
       "      <td>1B-EN/66</td>\n",
       "      <td>1B-EN</td>\n",
       "      <td>66</td>\n",
       "      <td>1B</td>\n",
       "      <td>Unexpected Contents</td>\n",
       "      <td>Uninformative</td>\n",
       "      <td>Here is a bag filled with popcorn. There is no...</td>\n",
       "      <td>...</td>\n",
       "      <td>NaN</td>\n",
       "      <td>NaN</td>\n",
       "      <td>NaN</td>\n",
       "      <td>NaN</td>\n",
       "      <td>NaN</td>\n",
       "      <td>NaN</td>\n",
       "      <td>NaN</td>\n",
       "      <td>NaN</td>\n",
       "      <td>NaN</td>\n",
       "      <td>NaN</td>\n",
       "    </tr>\n",
       "  </tbody>\n",
       "</table>\n",
       "<p>3 rows × 105 columns</p>\n",
       "</div>"
      ],
      "text/plain": [
       "   study_id          study_name  scenario_id scenario_code story_id  chat_id  \\\n",
       "0         1  Ullman Replication            1        1-EN/1     1-EN        1   \n",
       "1         1  Ullman Replication            2       1A-EN/1    1A-EN        1   \n",
       "2         1  Ullman Replication            3      1B-EN/66    1B-EN       66   \n",
       "\n",
       "  story_common_id       story_category     story_name  \\\n",
       "0               1  Unexpected Contents         Base 1   \n",
       "1              1A  Unexpected Contents    Transparent   \n",
       "2              1B  Unexpected Contents  Uninformative   \n",
       "\n",
       "                                       story_content  ...  \\\n",
       "0  Here is a bag filled with popcorn. There is no...  ...   \n",
       "1  Here is a bag filled with popcorn. There is no...  ...   \n",
       "2  Here is a bag filled with popcorn. There is no...  ...   \n",
       "\n",
       "  choices_0_logprobs_content_0_top_logprobs_4_bytes  \\\n",
       "0                                               NaN   \n",
       "1                                               NaN   \n",
       "2                                               NaN   \n",
       "\n",
       "  choices_0_logprobs_content_0_top_logprobs_7_bytes  \\\n",
       "0                                               NaN   \n",
       "1                                               NaN   \n",
       "2                                               NaN   \n",
       "\n",
       "  choices_0_logprobs_content_0_top_logprobs_19_bytes  \\\n",
       "0                                                NaN   \n",
       "1                                                NaN   \n",
       "2                                                NaN   \n",
       "\n",
       "   choices_0_logprobs_content_0_top_logprobs_16_bytes  \\\n",
       "0                                                NaN    \n",
       "1                                                NaN    \n",
       "2                                                NaN    \n",
       "\n",
       "   choices_0_logprobs_content_0_top_logprobs_15_bytes  \\\n",
       "0                                                NaN    \n",
       "1                                                NaN    \n",
       "2                                                NaN    \n",
       "\n",
       "  choices_0_logprobs_content_0_top_logprobs_9_bytes  \\\n",
       "0                                               NaN   \n",
       "1                                               NaN   \n",
       "2                                               NaN   \n",
       "\n",
       "   choices_0_logprobs_content_0_top_logprobs_2_bytes  \\\n",
       "0                                                NaN   \n",
       "1                                                NaN   \n",
       "2                                                NaN   \n",
       "\n",
       "  choices_0_logprobs_content_0_top_logprobs_11_bytes  \\\n",
       "0                                                NaN   \n",
       "1                                                NaN   \n",
       "2                                                NaN   \n",
       "\n",
       "  choices_0_logprobs_content_0_top_logprobs_17_bytes  \\\n",
       "0                                                NaN   \n",
       "1                                                NaN   \n",
       "2                                                NaN   \n",
       "\n",
       "   choices_0_logprobs_content_0_top_logprobs_3_bytes  \n",
       "0                                                NaN  \n",
       "1                                                NaN  \n",
       "2                                                NaN  \n",
       "\n",
       "[3 rows x 105 columns]"
      ]
     },
     "execution_count": 108,
     "metadata": {},
     "output_type": "execute_result"
    }
   ],
   "source": [
    "combined_df.head(3)"
   ]
  },
  {
   "cell_type": "code",
   "execution_count": 109,
   "metadata": {},
   "outputs": [
    {
     "data": {
      "text/plain": [
       "'2024-04-27T08-33-00'"
      ]
     },
     "execution_count": 109,
     "metadata": {},
     "output_type": "execute_result"
    }
   ],
   "source": [
    "current_datetime = datetime.datetime.now().strftime(\"%Y-%m-%dT%H-%M-%S\")\n",
    "current_datetime"
   ]
  },
  {
   "cell_type": "code",
   "execution_count": 110,
   "metadata": {},
   "outputs": [],
   "source": [
    "combined_df.to_csv(\n",
    "    f\"../output/responses_combined/07_combined_responses.csv\"\n",
    "    )"
   ]
  },
  {
   "cell_type": "code",
   "execution_count": 113,
   "metadata": {},
   "outputs": [
    {
     "data": {
      "text/plain": [
       "True"
      ]
     },
     "execution_count": 113,
     "metadata": {},
     "output_type": "execute_result"
    }
   ],
   "source": [
    "combined_df.groupby([\"scenario_id\", \"question_id\"]).size().mean() == 20"
   ]
  }
 ],
 "metadata": {
  "kernelspec": {
   "display_name": "Python 3",
   "language": "python",
   "name": "python3"
  },
  "language_info": {
   "codemirror_mode": {
    "name": "ipython",
    "version": 3
   },
   "file_extension": ".py",
   "mimetype": "text/x-python",
   "name": "python",
   "nbconvert_exporter": "python",
   "pygments_lexer": "ipython3",
   "version": "3.12.0"
  }
 },
 "nbformat": 4,
 "nbformat_minor": 2
}

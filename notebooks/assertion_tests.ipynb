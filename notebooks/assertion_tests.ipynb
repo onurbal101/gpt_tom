{
 "cells": [
  {
   "cell_type": "code",
   "execution_count": 2,
   "metadata": {},
   "outputs": [],
   "source": [
    "import pandas as pd"
   ]
  },
  {
   "cell_type": "code",
   "execution_count": 3,
   "metadata": {},
   "outputs": [],
   "source": [
    "df = pd.read_csv(\"all_responses_coded.csv\", index_col=0)"
   ]
  },
  {
   "cell_type": "code",
   "execution_count": 53,
   "metadata": {},
   "outputs": [],
   "source": [
    "df.loc[df[\"question_common_id\"] == 2, \"question_tom_type\"] = \"Action\""
   ]
  },
  {
   "cell_type": "code",
   "execution_count": 4,
   "metadata": {},
   "outputs": [
    {
     "data": {
      "text/html": [
       "<div>\n",
       "<style scoped>\n",
       "    .dataframe tbody tr th:only-of-type {\n",
       "        vertical-align: middle;\n",
       "    }\n",
       "\n",
       "    .dataframe tbody tr th {\n",
       "        vertical-align: top;\n",
       "    }\n",
       "\n",
       "    .dataframe thead th {\n",
       "        text-align: right;\n",
       "    }\n",
       "</style>\n",
       "<table border=\"1\" class=\"dataframe\">\n",
       "  <thead>\n",
       "    <tr style=\"text-align: right;\">\n",
       "      <th></th>\n",
       "      <th>initial_order</th>\n",
       "      <th>initial_index</th>\n",
       "      <th>session_id</th>\n",
       "      <th>study_id</th>\n",
       "      <th>study_name</th>\n",
       "      <th>scenario_id</th>\n",
       "      <th>scenario_code</th>\n",
       "      <th>story_id</th>\n",
       "      <th>chat_id</th>\n",
       "      <th>story_common_id</th>\n",
       "      <th>...</th>\n",
       "      <th>content</th>\n",
       "      <th>role</th>\n",
       "      <th>function_call</th>\n",
       "      <th>tool_calls</th>\n",
       "      <th>language_category</th>\n",
       "      <th>is_correct</th>\n",
       "      <th>has_correct_reasoning</th>\n",
       "      <th>is_beyond_scope</th>\n",
       "      <th>has_grammatical_error</th>\n",
       "      <th>needs_debating</th>\n",
       "    </tr>\n",
       "  </thead>\n",
       "  <tbody>\n",
       "    <tr>\n",
       "      <th>0</th>\n",
       "      <td>679</td>\n",
       "      <td>3896</td>\n",
       "      <td>109</td>\n",
       "      <td>1</td>\n",
       "      <td>Ullman Replication</td>\n",
       "      <td>1.0</td>\n",
       "      <td>1-EN/1</td>\n",
       "      <td>1-EN</td>\n",
       "      <td>1.0</td>\n",
       "      <td>1</td>\n",
       "      <td>...</td>\n",
       "      <td>Sam believes that the bag is full of chocolate.</td>\n",
       "      <td>assistant</td>\n",
       "      <td>NaN</td>\n",
       "      <td>NaN</td>\n",
       "      <td>English</td>\n",
       "      <td>True</td>\n",
       "      <td>NaN</td>\n",
       "      <td>False</td>\n",
       "      <td>False</td>\n",
       "      <td>False</td>\n",
       "    </tr>\n",
       "    <tr>\n",
       "      <th>1</th>\n",
       "      <td>849</td>\n",
       "      <td>4066</td>\n",
       "      <td>189</td>\n",
       "      <td>1</td>\n",
       "      <td>Ullman Replication</td>\n",
       "      <td>1.0</td>\n",
       "      <td>1-EN/1</td>\n",
       "      <td>1-EN</td>\n",
       "      <td>1.0</td>\n",
       "      <td>1</td>\n",
       "      <td>...</td>\n",
       "      <td>chocolate.</td>\n",
       "      <td>assistant</td>\n",
       "      <td>NaN</td>\n",
       "      <td>NaN</td>\n",
       "      <td>English</td>\n",
       "      <td>True</td>\n",
       "      <td>NaN</td>\n",
       "      <td>False</td>\n",
       "      <td>False</td>\n",
       "      <td>False</td>\n",
       "    </tr>\n",
       "    <tr>\n",
       "      <th>2</th>\n",
       "      <td>1019</td>\n",
       "      <td>4327</td>\n",
       "      <td>269</td>\n",
       "      <td>1</td>\n",
       "      <td>Ullman Replication</td>\n",
       "      <td>1.0</td>\n",
       "      <td>1-EN/1</td>\n",
       "      <td>1-EN</td>\n",
       "      <td>1.0</td>\n",
       "      <td>1</td>\n",
       "      <td>...</td>\n",
       "      <td>chocolate.</td>\n",
       "      <td>assistant</td>\n",
       "      <td>NaN</td>\n",
       "      <td>NaN</td>\n",
       "      <td>English</td>\n",
       "      <td>True</td>\n",
       "      <td>NaN</td>\n",
       "      <td>False</td>\n",
       "      <td>False</td>\n",
       "      <td>False</td>\n",
       "    </tr>\n",
       "    <tr>\n",
       "      <th>3</th>\n",
       "      <td>1189</td>\n",
       "      <td>4497</td>\n",
       "      <td>349</td>\n",
       "      <td>1</td>\n",
       "      <td>Ullman Replication</td>\n",
       "      <td>1.0</td>\n",
       "      <td>1-EN/1</td>\n",
       "      <td>1-EN</td>\n",
       "      <td>1.0</td>\n",
       "      <td>1</td>\n",
       "      <td>...</td>\n",
       "      <td>Sam believes that the bag is full of chocolate.</td>\n",
       "      <td>assistant</td>\n",
       "      <td>NaN</td>\n",
       "      <td>NaN</td>\n",
       "      <td>English</td>\n",
       "      <td>True</td>\n",
       "      <td>NaN</td>\n",
       "      <td>False</td>\n",
       "      <td>False</td>\n",
       "      <td>False</td>\n",
       "    </tr>\n",
       "    <tr>\n",
       "      <th>4</th>\n",
       "      <td>1359</td>\n",
       "      <td>4667</td>\n",
       "      <td>429</td>\n",
       "      <td>1</td>\n",
       "      <td>Ullman Replication</td>\n",
       "      <td>1.0</td>\n",
       "      <td>1-EN/1</td>\n",
       "      <td>1-EN</td>\n",
       "      <td>1.0</td>\n",
       "      <td>1</td>\n",
       "      <td>...</td>\n",
       "      <td>chocolate</td>\n",
       "      <td>assistant</td>\n",
       "      <td>NaN</td>\n",
       "      <td>NaN</td>\n",
       "      <td>English</td>\n",
       "      <td>True</td>\n",
       "      <td>NaN</td>\n",
       "      <td>False</td>\n",
       "      <td>False</td>\n",
       "      <td>False</td>\n",
       "    </tr>\n",
       "  </tbody>\n",
       "</table>\n",
       "<p>5 rows × 52 columns</p>\n",
       "</div>"
      ],
      "text/plain": [
       "   initial_order  initial_index  session_id  study_id          study_name  \\\n",
       "0            679           3896         109         1  Ullman Replication   \n",
       "1            849           4066         189         1  Ullman Replication   \n",
       "2           1019           4327         269         1  Ullman Replication   \n",
       "3           1189           4497         349         1  Ullman Replication   \n",
       "4           1359           4667         429         1  Ullman Replication   \n",
       "\n",
       "   scenario_id scenario_code story_id  chat_id story_common_id  ...  \\\n",
       "0          1.0        1-EN/1     1-EN      1.0               1  ...   \n",
       "1          1.0        1-EN/1     1-EN      1.0               1  ...   \n",
       "2          1.0        1-EN/1     1-EN      1.0               1  ...   \n",
       "3          1.0        1-EN/1     1-EN      1.0               1  ...   \n",
       "4          1.0        1-EN/1     1-EN      1.0               1  ...   \n",
       "\n",
       "                                           content       role function_call  \\\n",
       "0  Sam believes that the bag is full of chocolate.  assistant           NaN   \n",
       "1                                       chocolate.  assistant           NaN   \n",
       "2                                       chocolate.  assistant           NaN   \n",
       "3  Sam believes that the bag is full of chocolate.  assistant           NaN   \n",
       "4                                        chocolate  assistant           NaN   \n",
       "\n",
       "  tool_calls language_category is_correct  has_correct_reasoning  \\\n",
       "0        NaN           English       True                    NaN   \n",
       "1        NaN           English       True                    NaN   \n",
       "2        NaN           English       True                    NaN   \n",
       "3        NaN           English       True                    NaN   \n",
       "4        NaN           English       True                    NaN   \n",
       "\n",
       "   is_beyond_scope has_grammatical_error  needs_debating  \n",
       "0            False                 False           False  \n",
       "1            False                 False           False  \n",
       "2            False                 False           False  \n",
       "3            False                 False           False  \n",
       "4            False                 False           False  \n",
       "\n",
       "[5 rows x 52 columns]"
      ]
     },
     "execution_count": 4,
     "metadata": {},
     "output_type": "execute_result"
    }
   ],
   "source": [
    "df.head()"
   ]
  },
  {
   "cell_type": "code",
   "execution_count": 5,
   "metadata": {},
   "outputs": [
    {
     "name": "stdout",
     "output_type": "stream",
     "text": [
      "<class 'pandas.core.frame.DataFrame'>\n",
      "Index: 6560 entries, 0 to 6559\n",
      "Data columns (total 52 columns):\n",
      " #   Column                   Non-Null Count  Dtype  \n",
      "---  ------                   --------------  -----  \n",
      " 0   initial_order            6560 non-null   int64  \n",
      " 1   initial_index            6560 non-null   int64  \n",
      " 2   session_id               6560 non-null   int64  \n",
      " 3   study_id                 6560 non-null   int64  \n",
      " 4   study_name               6560 non-null   object \n",
      " 5   scenario_id              6560 non-null   float64\n",
      " 6   scenario_code            6560 non-null   object \n",
      " 7   story_id                 6560 non-null   object \n",
      " 8   chat_id                  6560 non-null   float64\n",
      " 9   story_common_id          6560 non-null   object \n",
      " 10  story_category           6560 non-null   object \n",
      " 11  story_name               6560 non-null   object \n",
      " 12  story_content            6560 non-null   object \n",
      " 13  story_language           6560 non-null   object \n",
      " 14  chat_name                6560 non-null   object \n",
      " 15  chat_language            6560 non-null   object \n",
      " 16  chat_has_fbv_zan         6560 non-null   bool   \n",
      " 17  chat_has_fbv_san         6560 non-null   bool   \n",
      " 18  questions                6560 non-null   object \n",
      " 19  system_message_id        6560 non-null   float64\n",
      " 20  system_message_language  6560 non-null   object \n",
      " 21  system_message_content   6560 non-null   object \n",
      " 22  question_index           6560 non-null   int64  \n",
      " 23  question_id              6560 non-null   object \n",
      " 24  question_common_id       6560 non-null   float64\n",
      " 25  question_content         6560 non-null   object \n",
      " 26  question_type            6560 non-null   object \n",
      " 27  question_language        6560 non-null   object \n",
      " 28  question_has_fbv_zan     6560 non-null   bool   \n",
      " 29  question_has_fbv_san     6560 non-null   bool   \n",
      " 30  question_tom_order       6560 non-null   float64\n",
      " 31  question_tom_type        6560 non-null   object \n",
      " 32  answer_id                6558 non-null   float64\n",
      " 33  answer_correct           6560 non-null   object \n",
      " 34  id                       6560 non-null   object \n",
      " 35  created                  6560 non-null   int64  \n",
      " 36  model                    6560 non-null   object \n",
      " 37  object                   6560 non-null   object \n",
      " 38  system_fingerprint       3280 non-null   object \n",
      " 39  completion_tokens        6560 non-null   int64  \n",
      " 40  prompt_tokens            6560 non-null   int64  \n",
      " 41  total_tokens             6560 non-null   int64  \n",
      " 42  content                  6560 non-null   object \n",
      " 43  role                     6560 non-null   object \n",
      " 44  function_call            0 non-null      float64\n",
      " 45  tool_calls               0 non-null      float64\n",
      " 46  language_category        6560 non-null   object \n",
      " 47  is_correct               6560 non-null   bool   \n",
      " 48  has_correct_reasoning    1891 non-null   object \n",
      " 49  is_beyond_scope          6560 non-null   bool   \n",
      " 50  has_grammatical_error    6560 non-null   bool   \n",
      " 51  needs_debating           6560 non-null   bool   \n",
      "dtypes: bool(8), float64(8), int64(9), object(27)\n",
      "memory usage: 2.3+ MB\n"
     ]
    }
   ],
   "source": [
    "df.info()"
   ]
  },
  {
   "cell_type": "code",
   "execution_count": 6,
   "metadata": {},
   "outputs": [
    {
     "data": {
      "text/plain": [
       "Index(['initial_order', 'initial_index', 'session_id', 'study_id',\n",
       "       'study_name', 'scenario_id', 'scenario_code', 'story_id', 'chat_id',\n",
       "       'story_common_id', 'story_category', 'story_name', 'story_content',\n",
       "       'story_language', 'chat_name', 'chat_language', 'chat_has_fbv_zan',\n",
       "       'chat_has_fbv_san', 'questions', 'system_message_id',\n",
       "       'system_message_language', 'system_message_content', 'question_index',\n",
       "       'question_id', 'question_common_id', 'question_content',\n",
       "       'question_type', 'question_language', 'question_has_fbv_zan',\n",
       "       'question_has_fbv_san', 'question_tom_order', 'question_tom_type',\n",
       "       'answer_id', 'answer_correct', 'id', 'created', 'model', 'object',\n",
       "       'system_fingerprint', 'completion_tokens', 'prompt_tokens',\n",
       "       'total_tokens', 'content', 'role', 'function_call', 'tool_calls',\n",
       "       'language_category', 'is_correct', 'has_correct_reasoning',\n",
       "       'is_beyond_scope', 'has_grammatical_error', 'needs_debating'],\n",
       "      dtype='object')"
      ]
     },
     "execution_count": 6,
     "metadata": {},
     "output_type": "execute_result"
    }
   ],
   "source": [
    "df.columns"
   ]
  },
  {
   "cell_type": "markdown",
   "metadata": {},
   "source": [
    "We expect only the following to have some missing values:\n",
    "\n",
    "### Coding Related\n",
    "\n",
    "\n",
    "- `has_correct_reasoning` (since only Open-ended questions and Closed-ended questions to which GPT responded with explanations were coded for reasoning)\n",
    "\n",
    "### API Response Related\n",
    "\n",
    "- `function_call` (since no function calls were made using the API)\n",
    "- `system_fingerprint` (since this feature was introduced with GPT-4 Turbo, and was not made available retroactively for earlier versions, including GPT-3.5 Turbo which was used in this study)\n",
    "- `tool_call` (since no tool calls were made using the API)"
   ]
  },
  {
   "cell_type": "code",
   "execution_count": 79,
   "metadata": {},
   "outputs": [
    {
     "name": "stdout",
     "output_type": "stream",
     "text": [
      "The column 'answer_id' has 2 missing values.\n",
      "The column 'function_call' has 6560 missing values.\n",
      "The column 'has_correct_reasoning' has 4669 missing values.\n",
      "The column 'system_fingerprint' has 3280 missing values.\n",
      "The column 'tool_calls' has 6560 missing values.\n"
     ]
    }
   ],
   "source": [
    "for column in sorted(df.columns):\n",
    "    missing_value_count = df[column].isna().sum()\n",
    "\n",
    "    if missing_value_count != 0:\n",
    "        print(f\"The column '{column}' has {missing_value_count} missing values.\")"
   ]
  },
  {
   "cell_type": "code",
   "execution_count": 46,
   "metadata": {},
   "outputs": [],
   "source": [
    "study_characteristics = {\n",
    "    \"models\": 2,\n",
    "    \"languages\": 2,\n",
    "    \"trials\": 10,\n",
    "\n",
    "    \"study_1\": {\n",
    "        \"scenarios\": 60,\n",
    "        \"question_per_scenario\": 1\n",
    "    },\n",
    "\n",
    "    \"study_2\": {\n",
    "        \"scenarios\": 40,\n",
    "        \"question_per_scenario\": 4\n",
    "    },\n",
    "\n",
    "    \"study_3\": {\n",
    "        \"scenarios\": 16,\n",
    "        \"question_per_scenario\": 6.75\n",
    "    }\n",
    "}"
   ]
  },
  {
   "cell_type": "code",
   "execution_count": 23,
   "metadata": {},
   "outputs": [
    {
     "data": {
      "text/plain": [
       "(6560, 52)"
      ]
     },
     "execution_count": 23,
     "metadata": {},
     "output_type": "execute_result"
    }
   ],
   "source": [
    "df.shape"
   ]
  },
  {
   "cell_type": "code",
   "execution_count": 7,
   "metadata": {},
   "outputs": [],
   "source": [
    "assert df.shape[0] == 6560\n",
    "assert df.shape[1] == 52"
   ]
  },
  {
   "cell_type": "code",
   "execution_count": 19,
   "metadata": {},
   "outputs": [],
   "source": [
    "scenario_size_by_study = df.groupby([\"study_id\"])[\"scenario_id\"].nunique()"
   ]
  },
  {
   "cell_type": "code",
   "execution_count": 21,
   "metadata": {},
   "outputs": [
    {
     "data": {
      "text/plain": [
       "study_id\n",
       "1    60\n",
       "2    40\n",
       "3    16\n",
       "Name: scenario_id, dtype: int64"
      ]
     },
     "execution_count": 21,
     "metadata": {},
     "output_type": "execute_result"
    }
   ],
   "source": [
    "scenario_size_by_study"
   ]
  },
  {
   "cell_type": "code",
   "execution_count": 36,
   "metadata": {},
   "outputs": [],
   "source": [
    "assert scenario_size_by_study[1] == study_characteristics[\"study_1\"][\"scenarios\"]\n",
    "assert scenario_size_by_study[2] == study_characteristics[\"study_2\"][\"scenarios\"]\n",
    "assert scenario_size_by_study[3] == study_characteristics[\"study_3\"][\"scenarios\"]"
   ]
  },
  {
   "cell_type": "code",
   "execution_count": 8,
   "metadata": {},
   "outputs": [],
   "source": [
    "study_sizes = df.groupby([\"study_id\"]).size()"
   ]
  },
  {
   "cell_type": "code",
   "execution_count": 9,
   "metadata": {},
   "outputs": [
    {
     "data": {
      "text/plain": [
       "study_id\n",
       "1    1200\n",
       "2    3200\n",
       "3    2160\n",
       "dtype: int64"
      ]
     },
     "execution_count": 9,
     "metadata": {},
     "output_type": "execute_result"
    }
   ],
   "source": [
    "study_sizes"
   ]
  },
  {
   "cell_type": "code",
   "execution_count": 47,
   "metadata": {},
   "outputs": [],
   "source": [
    "assert study_sizes[1] == scenario_size_by_study[1] * study_characteristics[\"models\"] * study_characteristics[\"trials\"] * study_characteristics[\"study_1\"][\"question_per_scenario\"]\n",
    "assert study_sizes[2] == scenario_size_by_study[2] * study_characteristics[\"models\"] * study_characteristics[\"trials\"] * study_characteristics[\"study_2\"][\"question_per_scenario\"]\n",
    "assert study_sizes[3] == scenario_size_by_study[3] * study_characteristics[\"models\"] * study_characteristics[\"trials\"] * study_characteristics[\"study_3\"][\"question_per_scenario\"]"
   ]
  }
 ],
 "metadata": {
  "kernelspec": {
   "display_name": "Python 3",
   "language": "python",
   "name": "python3"
  },
  "language_info": {
   "codemirror_mode": {
    "name": "ipython",
    "version": 3
   },
   "file_extension": ".py",
   "mimetype": "text/x-python",
   "name": "python",
   "nbconvert_exporter": "python",
   "pygments_lexer": "ipython3",
   "version": "3.12.0"
  }
 },
 "nbformat": 4,
 "nbformat_minor": 2
}
